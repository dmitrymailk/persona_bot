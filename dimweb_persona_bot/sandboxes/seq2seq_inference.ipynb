{
 "cells": [
  {
   "cell_type": "code",
   "execution_count": 1,
   "metadata": {},
   "outputs": [],
   "source": [
    "from transformers import  AutoTokenizer, AutoModelForSeq2SeqLM\n",
    "from dimweb_persona_bot.dataloaders.seq2seq_samplers.seq2seq_samplers_hypothesis_2 import H2Seq2SeqInferencePersonaSampleV1\n",
    "from dimweb_persona_bot.hyperparameters.causal_modeling_hyperparameters import H2PersonaChatHyperparametersV1\n",
    "import torch"
   ]
  },
  {
   "cell_type": "code",
   "execution_count": 2,
   "metadata": {},
   "outputs": [],
   "source": [
    "model_path = \"dim/bart-base-15or5dmk\"\n",
    "device = \"cuda\"\n",
    "\n",
    "model = AutoModelForSeq2SeqLM.from_pretrained(model_path)\n",
    "model.to(device)\n",
    "tokenizer = AutoTokenizer.from_pretrained(model_path)\n",
    "\n",
    "hyperparameters = H2PersonaChatHyperparametersV1(\n",
    "\tmodel_name=\"facebook/bart-base\",\n",
    "\tmodel_architecture=\"seq2seq\",\n",
    "\tchat_history_pair_length=3,\n",
    "\tpersona_max_length=14, \n",
    "\tchat_max_length=19,\n",
    ")"
   ]
  },
  {
   "cell_type": "code",
   "execution_count": 6,
   "metadata": {},
   "outputs": [
    {
     "data": {
      "text/plain": [
       "[0, 50265, 2]"
      ]
     },
     "execution_count": 6,
     "metadata": {},
     "output_type": "execute_result"
    }
   ],
   "source": [
    "tokenizer.encode(\"<c_sep>\")"
   ]
  },
  {
   "cell_type": "code",
   "execution_count": 7,
   "metadata": {},
   "outputs": [],
   "source": [
    "\n",
    "\n"
   ]
  },
  {
   "cell_type": "code",
   "execution_count": 27,
   "metadata": {},
   "outputs": [
    {
     "data": {
      "text/plain": [
       "['i do not like ice cream but i love chocolate']"
      ]
     },
     "execution_count": 27,
     "metadata": {},
     "output_type": "execute_result"
    }
   ],
   "source": [
    "sample = H2Seq2SeqInferencePersonaSampleV1(\n",
    "\ttokenizer=tokenizer,\n",
    "\thyperparameters=hyperparameters,\n",
    "\tdataset_sample={\n",
    "\t\t\"persona\": [\n",
    "      \t\t'I like chocolate ice cream.', \n",
    "        \t\"Sometimes I feel lonely.\", \n",
    "        \t\"I like to play video games.\"\n",
    "        ],\n",
    "\t\t\"history\": [\n",
    "    \t  \t\"Hi, do you like ice cream?\", \n",
    "       \t\t'i do like ice cream but i prefer chocolate ice cream',\n",
    "\t\t\t\"I feel lonely\",\n",
    "\t\t\t'i feel lonely when i play video games',\n",
    "\t\t\t\"Do you wanna play with me? I think we can have fun together.\",\n",
    "    ]\n",
    "\t}\n",
    ").get_sample()\n",
    "\n",
    "for key in sample.keys():\n",
    "    sample[key] = torch.tensor(sample[key]).unsqueeze(0).to(device)\n",
    "    \n",
    "# model(**sample)\n",
    "answer = model.generate(**sample, max_length=20)\n",
    "tokenizer.batch_decode(answer, skip_special_tokens=True,)"
   ]
  },
  {
   "cell_type": "code",
   "execution_count": 3,
   "metadata": {},
   "outputs": [],
   "source": [
    "# ['i feel lonely when i play video games']"
   ]
  },
  {
   "cell_type": "code",
   "execution_count": 29,
   "metadata": {},
   "outputs": [
    {
     "data": {
      "text/plain": [
       "['i think so too. what do you like to eat?']"
      ]
     },
     "execution_count": 29,
     "metadata": {},
     "output_type": "execute_result"
    }
   ],
   "source": [
    "answer = model.generate(\n",
    "    **sample, \n",
    "    max_length=20, \n",
    "    penalty_alpha=0.2, \n",
    "    top_k=6\n",
    ")\n",
    "tokenizer.batch_decode(answer, skip_special_tokens=True,)"
   ]
  },
  {
   "cell_type": "code",
   "execution_count": 3,
   "metadata": {},
   "outputs": [],
   "source": [
    "import random \n",
    "class DialogBotV1:\n",
    "    \"\"\"\n",
    "    uses greedy decoding\n",
    "\t\"\"\"\n",
    "    def __init__(self, \n",
    "        model, \n",
    "        tokenizer, \n",
    "        hyperparameters,\n",
    "        history=None,\n",
    "        persona=None,\n",
    "    ):\n",
    "        self.model = model\n",
    "        self.tokenizer = tokenizer\n",
    "        self.hyperparameters = hyperparameters\n",
    "        \n",
    "        if history is None:\n",
    "            self.history = []\n",
    "        self.history = history\n",
    "        \n",
    "        if persona is None:\n",
    "            self.persona = []\n",
    "        self.persona = persona\n",
    "    \n",
    "    def chat(self, message):\n",
    "        self.history.append(message)\n",
    "        \n",
    "        random.shuffle(self.persona)\n",
    "        sample = H2Seq2SeqInferencePersonaSampleV1(\n",
    "            tokenizer=self.tokenizer,\n",
    "            hyperparameters=self.hyperparameters,\n",
    "            dataset_sample={\n",
    "                \"persona\": self.persona,\n",
    "                \"history\": self.history,\n",
    "            }\n",
    "        ).get_sample()\n",
    "\n",
    "        for key in sample.keys():\n",
    "            sample[key] = torch.tensor(sample[key]).unsqueeze(0).to(device)\n",
    "        \n",
    "        answer = self.generate_responce(sample)\n",
    "        answer = self.tokenizer.batch_decode(answer, skip_special_tokens=True,)\n",
    "        self.history.append(answer[0])\n",
    "        return answer[0]\n",
    "    \n",
    "    def single_chat(self, message):\n",
    "        random.shuffle(self.persona)\n",
    "        temp_history = self.history.copy()\n",
    "        temp_history.append(message)\n",
    "        \n",
    "        sample = H2Seq2SeqInferencePersonaSampleV1(\n",
    "            tokenizer=self.tokenizer,\n",
    "            hyperparameters=self.hyperparameters,\n",
    "            dataset_sample={\n",
    "                \"persona\": self.persona,\n",
    "                \"history\": temp_history,\n",
    "            }\n",
    "        ).get_sample()\n",
    "\n",
    "        for key in sample.keys():\n",
    "            sample[key] = torch.tensor(sample[key]).unsqueeze(0).to(device)\n",
    "        \n",
    "        answer = self.generate_responce(sample)\n",
    "        answer = self.tokenizer.batch_decode(answer, skip_special_tokens=True,)\n",
    "        return answer[0]\n",
    "    \n",
    "    def generate_responce(self, sample):\n",
    "        return self.model.generate(**sample, max_length=20)\n",
    "    \n",
    "    def start_chat(self):\n",
    "        while True:\n",
    "            message = input(\"You: \")\n",
    "            if message == \"exit\":\n",
    "                break\n",
    "            answer = self.chat(message)\n",
    "            print(\"Bot:\", answer)"
   ]
  },
  {
   "cell_type": "code",
   "execution_count": 96,
   "metadata": {},
   "outputs": [],
   "source": [
    "bot = DialogBotV1(\n",
    "    model=model,\n",
    "    tokenizer=tokenizer,\n",
    "    hyperparameters=hyperparameters,\n",
    "    history=[\n",
    "        'Hi, how are you doing?',\n",
    "        \"i'm doing well. how are you?\",\n",
    "        \"I'am fixing a bug right now\",\n",
    "        \"oh wow that's interesting. what bug are you fixing?\",\n",
    "\t],\n",
    "    persona=[\n",
    "        \"I'm a computer science fresher.\",\n",
    "        \"I like racing games.\",\n",
    "        \"Sometimes I write code for fun.\",\n",
    "\t]\n",
    ")\n",
    "\n",
    "# bot.start_chat()\n",
    "# Oh, It's disgusting bug. The button on website sometimes is black and sometimes is red. What do you think?"
   ]
  },
  {
   "cell_type": "code",
   "execution_count": 107,
   "metadata": {},
   "outputs": [
    {
     "name": "stdout",
     "output_type": "stream",
     "text": [
      "what do you do for a living?\n",
      "['I like racing games.', 'Sometimes I write code for fun.', \"I'm a computer science fresher.\"]\n",
      "['Hi, how are you doing?', \"i'm doing well. how are you?\", \"I'am fixing a bug right now\", \"oh wow that's interesting. what bug are you fixing?\"]\n"
     ]
    }
   ],
   "source": [
    "response = bot.single_chat(\n",
    "\t\"The button sometimes is black and sometimes is red.\",\n",
    ")\n",
    "print(response)\n",
    "print(bot.persona)\n",
    "print(bot.history)"
   ]
  },
  {
   "cell_type": "code",
   "execution_count": 32,
   "metadata": {},
   "outputs": [
    {
     "data": {
      "text/plain": [
       "['Hi, how are you doing?',\n",
       " \"i'm doing well. how are you?\",\n",
       " \"I'am fixing a bug right now\",\n",
       " 'what bug are you fixing?',\n",
       " \"Oh, It's disgusting bug. The button on website sometimes is black and sometimes is red. What do you think?\",\n",
       " 'what do you do for a living?']"
      ]
     },
     "execution_count": 32,
     "metadata": {},
     "output_type": "execute_result"
    }
   ],
   "source": [
    "bot.history"
   ]
  },
  {
   "cell_type": "code",
   "execution_count": 4,
   "metadata": {},
   "outputs": [],
   "source": [
    "class DialogBotV2(DialogBotV1):\n",
    "    \"\"\"\n",
    "    uses Contrastive Search \n",
    "    \"\"\"\n",
    "    \n",
    "    def generate_responce(self, sample):\n",
    "        return self.model.generate(\n",
    "            **sample, \n",
    "            # max_length=20,\n",
    "            max_new_tokens=20, \n",
    "            penalty_alpha=0.1, \n",
    "            top_k=6\n",
    "        )\n",
    "        \n",
    "bot2 = DialogBotV2(model=model,\n",
    "    tokenizer=tokenizer,\n",
    "    hyperparameters=hyperparameters,\n",
    "    history=[\n",
    "        'Hi, how are you doing?',\n",
    "        \"i'm doing well. how are you?\",\n",
    "        \"I'am fixing a bug right now\",\n",
    "        \"oh wow that's interesting. what bug are you fixing?\",\n",
    "\t],\n",
    "    persona=[\n",
    "        \"I'm a junior frontend developer.\", 'I like racing games.', 'Sometimes I write code for fun.', \"I'm a computer science fresher.\"\n",
    "\t]\n",
    ")\n",
    "    "
   ]
  },
  {
   "cell_type": "code",
   "execution_count": 5,
   "metadata": {},
   "outputs": [
    {
     "name": "stdout",
     "output_type": "stream",
     "text": [
      "ok what do you do for fun?\n",
      "['I like racing games.', \"I'm a computer science fresher.\", \"I'm a junior frontend developer.\", 'Sometimes I write code for fun.']\n",
      "['Hi, how are you doing?', \"i'm doing well. how are you?\", \"I'am fixing a bug right now\", \"oh wow that's interesting. what bug are you fixing?\"]\n"
     ]
    }
   ],
   "source": [
    "response = bot2.single_chat(\n",
    "\t\"I don't wanna talking about it.\",\n",
    ")\n",
    "print(response)\n",
    "print(bot2.persona)\n",
    "print(bot2.history)"
   ]
  },
  {
   "cell_type": "code",
   "execution_count": 53,
   "metadata": {},
   "outputs": [
    {
     "data": {
      "text/plain": [
       "['Hi, how are you doing?',\n",
       " \"i'm doing well. how are you?\",\n",
       " \"I'am fixing a bug right now\",\n",
       " \"oh wow that's interesting. what bug are you fixing?\",\n",
       " \"i'm fixing a computer that needs fixed\",\n",
       " \"oh wow that's pretty cool. what do you do for fun?\"]"
      ]
     },
     "execution_count": 53,
     "metadata": {},
     "output_type": "execute_result"
    }
   ],
   "source": [
    "bot2.history"
   ]
  },
  {
   "cell_type": "code",
   "execution_count": 35,
   "metadata": {},
   "outputs": [
    {
     "name": "stdout",
     "output_type": "stream",
     "text": [
      "Bot: i'm doing well. how are you?\n",
      "Bot: oh wow that's interesting. what bug are you fixing?\n",
      "Bot: i like red hot chilli peppers\n"
     ]
    }
   ],
   "source": [
    "bot2.start_chat()"
   ]
  },
  {
   "cell_type": "code",
   "execution_count": 36,
   "metadata": {},
   "outputs": [
    {
     "data": {
      "text/plain": [
       "['Hi, how are you doing?',\n",
       " \"i'm doing well. how are you?\",\n",
       " \"I'am fixing a bug right now\",\n",
       " \"oh wow that's interesting. what bug are you fixing?\",\n",
       " \"Oh, It's disgusting bug. The button on website sometimes is black and sometimes is red. What do you think?\",\n",
       " 'i like red hot chilli peppers']"
      ]
     },
     "execution_count": 36,
     "metadata": {},
     "output_type": "execute_result"
    }
   ],
   "source": [
    "bot2.history"
   ]
  },
  {
   "cell_type": "markdown",
   "metadata": {},
   "source": [
    "### russian bot"
   ]
  },
  {
   "cell_type": "code",
   "execution_count": 3,
   "metadata": {},
   "outputs": [],
   "source": [
    "from dimweb_persona_bot.inference.seq2seq_bots import DialogBotV1, DialogBotV2"
   ]
  },
  {
   "cell_type": "code",
   "execution_count": 2,
   "metadata": {},
   "outputs": [],
   "source": [
    "model_path = \"./models/2vabb4b2/\"\n",
    "device = \"cuda\"\n",
    "\n",
    "model = AutoModelForSeq2SeqLM.from_pretrained(model_path)\n",
    "model.to(device)\n",
    "tokenizer = AutoTokenizer.from_pretrained(model_path)\n",
    "\n",
    "hyperparameters = H2PersonaChatHyperparametersV1(\n",
    "\tmodel_architecture=\"seq2seq\",\n",
    "\tchat_history_pair_length=3,\n",
    "\tpersona_max_length=31, \n",
    "\tchat_max_length=166,\n",
    ")"
   ]
  },
  {
   "cell_type": "code",
   "execution_count": 4,
   "metadata": {},
   "outputs": [],
   "source": [
    "bot2 = DialogBotV2(model=model,\n",
    "    tokenizer=tokenizer,\n",
    "    hyperparameters=hyperparameters,\n",
    "    history=[\n",
    "        \n",
    "\t],\n",
    "    persona=[\n",
    "        \"Я студент 4 курса.\",\n",
    "        \"Люблю иногда бухать по пятницам.\",\n",
    "        \"У меня нет девушки.\",\n",
    "        \"Люблю писать код.\",\n",
    "\t]\n",
    ")"
   ]
  },
  {
   "cell_type": "code",
   "execution_count": 5,
   "metadata": {},
   "outputs": [
    {
     "name": "stdout",
     "output_type": "stream",
     "text": [
      "Bot: Привет, я студент 4 курса. А ты?\n",
      "Bot: А что ты делаешь в свободное время?\n",
      "Bot: Я пишу код. А ты?\n",
      "Bot: В свободное время я играю в футбол. А ты?\n"
     ]
    }
   ],
   "source": [
    "bot2.start_chat()"
   ]
  }
 ],
 "metadata": {
  "kernelspec": {
   "display_name": "Python 3.8.10 ('env')",
   "language": "python",
   "name": "python3"
  },
  "language_info": {
   "codemirror_mode": {
    "name": "ipython",
    "version": 3
   },
   "file_extension": ".py",
   "mimetype": "text/x-python",
   "name": "python",
   "nbconvert_exporter": "python",
   "pygments_lexer": "ipython3",
   "version": "3.8.10"
  },
  "orig_nbformat": 4,
  "vscode": {
   "interpreter": {
    "hash": "afbd04eaf482342bd8c806741887bf29b8900f429828e19eaba1f287fa9febed"
   }
  }
 },
 "nbformat": 4,
 "nbformat_minor": 2
}
