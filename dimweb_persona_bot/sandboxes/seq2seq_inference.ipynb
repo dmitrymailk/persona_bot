{
 "cells": [
  {
   "cell_type": "code",
   "execution_count": 11,
   "metadata": {},
   "outputs": [],
   "source": [
    "from transformers import  AutoTokenizer, AutoModelForSeq2SeqLM\n",
    "from dimweb_persona_bot.dataloaders.seq2seq_samplers.seq2seq_samplers_hypothesis_2 import H2Seq2SeqInferencePersonaSampleV1\n",
    "from dimweb_persona_bot.hyperparameters.causal_modeling_hyperparameters import H2PersonaChatHyperparametersV1\n",
    "import torch"
   ]
  },
  {
   "cell_type": "code",
   "execution_count": 6,
   "metadata": {},
   "outputs": [
    {
     "data": {
      "text/plain": [
       "[(1, 2), (3, 4), (5, 6)]"
      ]
     },
     "execution_count": 6,
     "metadata": {},
     "output_type": "execute_result"
    }
   ],
   "source": [
    "history = [1, 2, 3, 4, 5, 6]\n",
    "\n",
    "[(history[i], history[i+1]) for i in range(0, len(history), 2) ]"
   ]
  },
  {
   "cell_type": "code",
   "execution_count": 9,
   "metadata": {},
   "outputs": [
    {
     "data": {
      "text/plain": [
       "\"i'm also a graduate student . | i enjoy reading journals and guides related to psychology . | my parents taught me survival skills . | i walk dogs for a living .\""
      ]
     },
     "execution_count": 9,
     "metadata": {},
     "output_type": "execute_result"
    }
   ],
   "source": [
    "\" | \".join([\n",
    "            \"i'm also a graduate student .\",\n",
    "            \"i enjoy reading journals and guides related to psychology .\",\n",
    "            \"my parents taught me survival skills .\",\n",
    "            \"i walk dogs for a living .\",\n",
    "        ])"
   ]
  },
  {
   "cell_type": "code",
   "execution_count": 8,
   "metadata": {},
   "outputs": [
    {
     "data": {
      "text/plain": [
       "['']"
      ]
     },
     "execution_count": 8,
     "metadata": {},
     "output_type": "execute_result"
    }
   ],
   "source": [
    "\"\".split(\" | \")"
   ]
  },
  {
   "cell_type": "code",
   "execution_count": 12,
   "metadata": {},
   "outputs": [
    {
     "data": {
      "application/vnd.jupyter.widget-view+json": {
       "model_id": "262e2183100d4a62874898c47a5b45a5",
       "version_major": 2,
       "version_minor": 0
      },
      "text/plain": [
       "A Jupyter Widget"
      ]
     },
     "metadata": {},
     "output_type": "display_data"
    },
    {
     "data": {
      "application/vnd.jupyter.widget-view+json": {
       "model_id": "ceab0c6bb9e24543abd873ea0adebe7b",
       "version_major": 2,
       "version_minor": 0
      },
      "text/plain": [
       "A Jupyter Widget"
      ]
     },
     "metadata": {},
     "output_type": "display_data"
    },
    {
     "data": {
      "application/vnd.jupyter.widget-view+json": {
       "model_id": "b07ce5a8288b4d62b278f1a90116c0b5",
       "version_major": 2,
       "version_minor": 0
      },
      "text/plain": [
       "A Jupyter Widget"
      ]
     },
     "metadata": {},
     "output_type": "display_data"
    },
    {
     "data": {
      "application/vnd.jupyter.widget-view+json": {
       "model_id": "05b7b3a187894df78f9e40906de5d9d6",
       "version_major": 2,
       "version_minor": 0
      },
      "text/plain": [
       "A Jupyter Widget"
      ]
     },
     "metadata": {},
     "output_type": "display_data"
    },
    {
     "data": {
      "application/vnd.jupyter.widget-view+json": {
       "model_id": "dc49805d14234bd2b6813a17e3f2e36f",
       "version_major": 2,
       "version_minor": 0
      },
      "text/plain": [
       "A Jupyter Widget"
      ]
     },
     "metadata": {},
     "output_type": "display_data"
    },
    {
     "data": {
      "application/vnd.jupyter.widget-view+json": {
       "model_id": "26015f63b15f41929b18c2e4e34df87e",
       "version_major": 2,
       "version_minor": 0
      },
      "text/plain": [
       "A Jupyter Widget"
      ]
     },
     "metadata": {},
     "output_type": "display_data"
    },
    {
     "data": {
      "application/vnd.jupyter.widget-view+json": {
       "model_id": "777419a5342b4659ad7a011cd88a596d",
       "version_major": 2,
       "version_minor": 0
      },
      "text/plain": [
       "A Jupyter Widget"
      ]
     },
     "metadata": {},
     "output_type": "display_data"
    }
   ],
   "source": [
    "model_path = \"dim/persona_bot_2_28akcwik\"\n",
    "device = \"cuda\"\n",
    "\n",
    "model = AutoModelForSeq2SeqLM.from_pretrained(model_path)\n",
    "model.to(device)\n",
    "tokenizer = AutoTokenizer.from_pretrained(model_path)\n",
    "\n",
    "hyperparameters = H2PersonaChatHyperparametersV1(\n",
    "\tmodel_name=\"facebook/bart-base\",\n",
    "\tmodel_architecture=\"seq2seq\",\n",
    "\tchat_history_pair_length=7,\n",
    "\tpersona_max_length=14, \n",
    "\tchat_max_length=25,\n",
    ")"
   ]
  },
  {
   "cell_type": "code",
   "execution_count": 7,
   "metadata": {},
   "outputs": [],
   "source": [
    "\n",
    "\n"
   ]
  },
  {
   "cell_type": "code",
   "execution_count": 101,
   "metadata": {},
   "outputs": [
    {
     "data": {
      "text/plain": [
       "['anytime. what is your favorite?']"
      ]
     },
     "execution_count": 101,
     "metadata": {},
     "output_type": "execute_result"
    }
   ],
   "source": [
    "sample = H2Seq2SeqInferencePersonaSampleV1(\n",
    "\ttokenizer=tokenizer,\n",
    "\thyperparameters=hyperparameters,\n",
    "\tdataset_sample={\n",
    "\t\t\"persona\": [\n",
    "      \t\t'I like chocolate ice cream.', \n",
    "        \t\"Sometimes I feel lonely.\", \n",
    "        \t\"I like to play video games.\"\n",
    "        ],\n",
    "\t\t\"history\": [\n",
    "    \t  \t\"Hi, do you like ice cream?\", \n",
    "       \t\t'i do like ice cream but i prefer chocolate ice cream',\n",
    "\t\t\t\"I feel lonely\",\n",
    "\t\t\t'i feel lonely when i play video games',\n",
    "\t\t\t\"Do you wanna play with me? I think we can have fun together.\",\n",
    "\t\t\t'of course. what else do you like?',\n",
    "\t\t\t\"I like driving simulator games. What about you?\",\n",
    "\t\t\t'i like driving simulator games too',\n",
    "\t\t\t\"Let's play together.\",\n",
    "\t\t\t'okay. what else do you like?',\n",
    "\t\t\t\"When so you wanna play?\",\n",
    "    ]\n",
    "\t}\n",
    ").get_sample()\n",
    "\n",
    "for key in sample.keys():\n",
    "    sample[key] = torch.tensor(sample[key]).unsqueeze(0).to(device)\n",
    "    \n",
    "# model(**sample)\n",
    "answer = model.generate(**sample, \n",
    "\t# do_sample=True, \n",
    "    # top_p=0.95,\n",
    "    penalty_alpha=0.1, \n",
    "    top_k=10\n",
    ")\n",
    "tokenizer.batch_decode(answer, skip_special_tokens=True,)"
   ]
  },
  {
   "cell_type": "code",
   "execution_count": 108,
   "metadata": {},
   "outputs": [],
   "source": [
    "from dimweb_persona_bot.inference.seq2seq_bots import DialogBotV2\n",
    "\n",
    "bot2 = DialogBotV2(model=model,\n",
    "    tokenizer=tokenizer,\n",
    "    hyperparameters=hyperparameters,\n",
    "    history=[\n",
    "        'Hi, how are you doing?',\n",
    "        \"i'm doing well. how are you?\",\n",
    "        \"I'm fixing a bug right now\",\n",
    "        \"oh wow that's interesting. what bug are you fixing?\",\n",
    "\t],\n",
    "    persona=[\n",
    "        \"I'm a junior frontend developer.\", \n",
    "        'I like racing games.', \n",
    "        'Sometimes I write code for fun.', \n",
    "        \"I'm a computer science fresher.\"\n",
    "\t]\n",
    ")"
   ]
  },
  {
   "cell_type": "code",
   "execution_count": 111,
   "metadata": {},
   "outputs": [
    {
     "name": "stdout",
     "output_type": "stream",
     "text": [
      "'Hi, how are you doing?'\n",
      "i'm doing well, how are you?\n",
      "I'm fixing a bug right now\n",
      "what bug? i'm a developer.\n",
      "Button sometimes turns red, sometimes disappears\n",
      "that's interesting. i'm a computer science major.\n",
      "Can you help me please with it?\n",
      "sure. what do you do for fun?\n",
      "I like to play in Dirt2. It's racing game\n",
      "that's a very popular game.\n",
      "Do you like it?\n",
      "i do. it is very fun.\n"
     ]
    }
   ],
   "source": [
    "print(\"\\n\".join([\"'Hi, how are you doing?'\", \"i'm doing well, how are you?\", \"I'm fixing a bug right now\", \"what bug? i'm a developer.\", 'Button sometimes turns red, sometimes disappears', \"that's interesting. i'm a computer science major.\", 'Can you help me please with it?', 'sure. what do you do for fun?', \"I like to play in Dirt2. It's racing game\", \"that's a very popular game.\", 'Do you like it?', 'i do. it is very fun.']))"
   ]
  },
  {
   "cell_type": "code",
   "execution_count": 113,
   "metadata": {},
   "outputs": [
    {
     "data": {
      "text/plain": [
       "{'persona': [\"i'm also a graduate student .\",\n",
       "  'i enjoy reading journals and guides related to psychology .',\n",
       "  'my parents taught me survival skills .',\n",
       "  'i walk dogs for a living .'],\n",
       " 'history': ['hey how are you today',\n",
       "  \"i'm busy studying psychology for my graduate school class . you ?\",\n",
       "  'i have retired and now spend my time as a pro gambler',\n",
       "  'sounds cool ! i could be your dog walker when you are busy .',\n",
       "  'well being retired i have a lot of spare time either in a casino or outdoors',\n",
       "  'i love the outdoors . i can survive in the wilderness for weeks',\n",
       "  'yeah me to just got back from two weeks in the bush',\n",
       "  'did your parents teach you to survive like mine did ?',\n",
       "  'my dad did he has his own outdoor show its possible you have seen it',\n",
       "  'i may have . what is it called ?',\n",
       "  'jim shockey he has survived in places all over the world',\n",
       "  'i love that show ! i watch it between studying .',\n",
       "  \"yeah didn't get to see him much as a child\",\n",
       "  'that must have been hard . my parents were always hiking with me .'],\n",
       " 'sample_id': '15_7'}"
      ]
     },
     "execution_count": 113,
     "metadata": {},
     "output_type": "execute_result"
    }
   ],
   "source": [
    "from dimweb_persona_bot.dataloaders.persona_chat_dataloaders import PersonaChatDatasetV1\n",
    "dataset = PersonaChatDatasetV1(input_dataset_path=\"./datasets/persona_chat/valid.json\")\n",
    "\n",
    "dataset[104]"
   ]
  },
  {
   "cell_type": "code",
   "execution_count": 109,
   "metadata": {},
   "outputs": [
    {
     "name": "stdout",
     "output_type": "stream",
     "text": [
      "i'm a senior frontend developer.\n",
      "['Sometimes I write code for fun.', \"I'm a junior frontend developer.\", \"I'm a computer science fresher.\", 'I like racing games.']\n",
      "['Hi, how are you doing?', \"i'm doing great. just got home from a long day of work.\", 'Where do you work?', 'i work in the computer sciences department at the university of louisiana.']\n"
     ]
    }
   ],
   "source": [
    "response = bot2.single_chat(\n",
    "\t'That is cool. What do you do on this work?',\n",
    ")\n",
    "print(response)\n",
    "print(bot2.persona)\n",
    "print(bot2.history)"
   ]
  },
  {
   "cell_type": "code",
   "execution_count": 53,
   "metadata": {},
   "outputs": [
    {
     "data": {
      "text/plain": [
       "['Hi, how are you doing?',\n",
       " \"i'm doing well. how are you?\",\n",
       " \"I'am fixing a bug right now\",\n",
       " \"oh wow that's interesting. what bug are you fixing?\",\n",
       " \"i'm fixing a computer that needs fixed\",\n",
       " \"oh wow that's pretty cool. what do you do for fun?\"]"
      ]
     },
     "execution_count": 53,
     "metadata": {},
     "output_type": "execute_result"
    }
   ],
   "source": [
    "bot2.history"
   ]
  },
  {
   "cell_type": "code",
   "execution_count": 35,
   "metadata": {},
   "outputs": [
    {
     "name": "stdout",
     "output_type": "stream",
     "text": [
      "Bot: i'm doing well. how are you?\n",
      "Bot: oh wow that's interesting. what bug are you fixing?\n",
      "Bot: i like red hot chilli peppers\n"
     ]
    }
   ],
   "source": [
    "bot2.start_chat()"
   ]
  },
  {
   "cell_type": "code",
   "execution_count": 36,
   "metadata": {},
   "outputs": [
    {
     "data": {
      "text/plain": [
       "['Hi, how are you doing?',\n",
       " \"i'm doing well. how are you?\",\n",
       " \"I'am fixing a bug right now\",\n",
       " \"oh wow that's interesting. what bug are you fixing?\",\n",
       " \"Oh, It's disgusting bug. The button on website sometimes is black and sometimes is red. What do you think?\",\n",
       " 'i like red hot chilli peppers']"
      ]
     },
     "execution_count": 36,
     "metadata": {},
     "output_type": "execute_result"
    }
   ],
   "source": [
    "bot2.history"
   ]
  },
  {
   "cell_type": "markdown",
   "metadata": {},
   "source": [
    "### russian bot"
   ]
  },
  {
   "cell_type": "code",
   "execution_count": 3,
   "metadata": {},
   "outputs": [],
   "source": [
    "from dimweb_persona_bot.inference.seq2seq_bots import DialogBotV1, DialogBotV2"
   ]
  },
  {
   "cell_type": "code",
   "execution_count": 10,
   "metadata": {},
   "outputs": [
    {
     "ename": "NameError",
     "evalue": "name 'AutoModelForSeq2SeqLM' is not defined",
     "output_type": "error",
     "traceback": [
      "\u001b[0;31m---------------------------------------------------------------------------\u001b[0m",
      "\u001b[0;31mNameError\u001b[0m                                 Traceback (most recent call last)",
      "Cell \u001b[0;32mIn [10], line 4\u001b[0m\n\u001b[1;32m      1\u001b[0m model_path \u001b[39m=\u001b[39m \u001b[39m\"\u001b[39m\u001b[39m./models/28akcwik/6/\u001b[39m\u001b[39m\"\u001b[39m\n\u001b[1;32m      2\u001b[0m device \u001b[39m=\u001b[39m \u001b[39m\"\u001b[39m\u001b[39mcuda\u001b[39m\u001b[39m\"\u001b[39m\n\u001b[0;32m----> 4\u001b[0m model \u001b[39m=\u001b[39m AutoModelForSeq2SeqLM\u001b[39m.\u001b[39mfrom_pretrained(model_path)\n\u001b[1;32m      5\u001b[0m model\u001b[39m.\u001b[39mto(device)\n\u001b[1;32m      6\u001b[0m tokenizer \u001b[39m=\u001b[39m AutoTokenizer\u001b[39m.\u001b[39mfrom_pretrained(model_path)\n",
      "\u001b[0;31mNameError\u001b[0m: name 'AutoModelForSeq2SeqLM' is not defined"
     ]
    }
   ],
   "source": [
    "model_path = \"./models/28akcwik/6/\"\n",
    "device = \"cuda\"\n",
    "\n",
    "model = AutoModelForSeq2SeqLM.from_pretrained(model_path)\n",
    "model.to(device)\n",
    "tokenizer = AutoTokenizer.from_pretrained(model_path)\n",
    "\n",
    "hyperparameters = H2PersonaChatHyperparametersV1(\n",
    "    chat_history_pair_length=7,\n",
    "    max_response_length=512,\n",
    "    persona_max_length=14,\n",
    "    chat_max_length=25,\n",
    ")"
   ]
  },
  {
   "cell_type": "code",
   "execution_count": 4,
   "metadata": {},
   "outputs": [],
   "source": [
    "bot2 = DialogBotV2(model=model,\n",
    "    tokenizer=tokenizer,\n",
    "    hyperparameters=hyperparameters,\n",
    "    history=[\n",
    "        \n",
    "\t],\n",
    "    persona=[\n",
    "        \"Я студент 4 курса.\",\n",
    "        \"Люблю иногда бухать по пятницам.\",\n",
    "        \"У меня нет девушки.\",\n",
    "        \"Люблю писать код.\",\n",
    "\t]\n",
    ")"
   ]
  },
  {
   "cell_type": "code",
   "execution_count": 5,
   "metadata": {},
   "outputs": [
    {
     "name": "stdout",
     "output_type": "stream",
     "text": [
      "Bot: Привет, я студент 4 курса. А ты?\n",
      "Bot: А что ты делаешь в свободное время?\n",
      "Bot: Я пишу код. А ты?\n",
      "Bot: В свободное время я играю в футбол. А ты?\n"
     ]
    }
   ],
   "source": [
    "bot2.start_chat()"
   ]
  }
 ],
 "metadata": {
  "kernelspec": {
   "display_name": "d_env",
   "language": "python",
   "name": "python3"
  },
  "language_info": {
   "codemirror_mode": {
    "name": "ipython",
    "version": 3
   },
   "file_extension": ".py",
   "mimetype": "text/x-python",
   "name": "python",
   "nbconvert_exporter": "python",
   "pygments_lexer": "ipython3",
   "version": "3.10.6"
  },
  "orig_nbformat": 4,
  "vscode": {
   "interpreter": {
    "hash": "30a38661b2ceeb3c9b7cf184b47a2a6da71d32c359e8d9d03d0224b913ace509"
   }
  }
 },
 "nbformat": 4,
 "nbformat_minor": 2
}
