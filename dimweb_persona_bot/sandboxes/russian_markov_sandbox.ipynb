{
 "cells": [
  {
   "cell_type": "code",
   "execution_count": 1,
   "metadata": {},
   "outputs": [
    {
     "data": {
      "text/html": [
       "<style type='text/css'>\n",
       ".datatable table.frame { margin-bottom: 0; }\n",
       ".datatable table.frame thead { border-bottom: none; }\n",
       ".datatable table.frame tr.coltypes td {  color: #FFFFFF;  line-height: 6px;  padding: 0 0.5em;}\n",
       ".datatable .bool    { background: #DDDD99; }\n",
       ".datatable .object  { background: #565656; }\n",
       ".datatable .int     { background: #5D9E5D; }\n",
       ".datatable .float   { background: #4040CC; }\n",
       ".datatable .str     { background: #CC4040; }\n",
       ".datatable .time    { background: #40CC40; }\n",
       ".datatable .row_index {  background: var(--jp-border-color3);  border-right: 1px solid var(--jp-border-color0);  color: var(--jp-ui-font-color3);  font-size: 9px;}\n",
       ".datatable .frame tbody td { text-align: left; }\n",
       ".datatable .frame tr.coltypes .row_index {  background: var(--jp-border-color0);}\n",
       ".datatable th:nth-child(2) { padding-left: 12px; }\n",
       ".datatable .hellipsis {  color: var(--jp-cell-editor-border-color);}\n",
       ".datatable .vellipsis {  background: var(--jp-layout-color0);  color: var(--jp-cell-editor-border-color);}\n",
       ".datatable .na {  color: var(--jp-cell-editor-border-color);  font-size: 80%;}\n",
       ".datatable .sp {  opacity: 0.25;}\n",
       ".datatable .footer { font-size: 9px; }\n",
       ".datatable .frame_dimensions {  background: var(--jp-border-color3);  border-top: 1px solid var(--jp-border-color0);  color: var(--jp-ui-font-color3);  display: inline-block;  opacity: 0.6;  padding: 1px 10px 1px 5px;}\n",
       ".datatable .frame thead tr.colnames {  background-image: url('data:image/png;base64,iVBORw0KGgoAAAANSUhEUgAAABwAAAA4CAYAAADuMJi0AAAGR0lEQVR42rVZ21IbRxBtCbQrkIR2dQVjsLmDLBsET3nTQ8ouYRkQVf6e/E9+Im958qMfkgoXAaKSSj6C9Jnd2R2NeiRSRaZqitVOT5+Z6dNnWoKGlN94JFp8Ipofkb/7SOXjGyp8wF+z35K3f0uUp/GW4XfLQ8v2gefj3ZCCzojoNfue+43o1Q3l3xB/yA3JO7jnF2pCLnI+pNyx/qw7L+SQ7T2N9p2f8c60QcfcK6KGXsAd+ZvA4LlZYuSSAoOhMs5vwJkEGDlbPMaJoA+FcQ0IH38QLWkbAFLkOOhoMF5tU6/eBRhNjro0ZgKiPRAt3FLhCO/vqdgmNTm32LkmKpvBmQY4q5uAaAgbwDBG2BVv3bfI8KKAMWj2kfw9+pkZREIbEql4ST1x7hgHIANkbJ//MF8mAH/ilTCJ2tIi4ASr1IC3VNqXHKOxjy34mgoImnOQtx1g81fkqTiMOBVGcTogNhiT5iBHET8R8C+iApJUmgim3SQAXhsLQz7ee2G8gOAQNtJckBEplADiAxtX+G9NmhDl0qJKnTvyWlAMPYZnvIviGXRg6/Dh824DBXhP/tbfREXJEIvQ+aaPGjG7pvw6r3xdx+9hqb4dgZaP2XmdHO2K/B0c1+oUph6k8kShBryl/Ft0DYgjTlOieOACHFFpVyUl72T9V3cM1jUoYvxIC2vpCSys/ck70mDYuYvdvKjlMdKAUThneWVU1aAsyjv6PURDiwNsHGBZzY+JtAAgE2TFxdRHJdyIp/f+zqu09M5cDP2F08Ukkpj4YNSdX950HY2pNCCUK/Hhx5ZMBfjNSEzdsIihVzzAMdn9dz4eDYhnyQb9SSCiAryiJcQk82LiTbJ4x2FZJaUenpKnzP95WyDf4Y+QN9EFHHSeDLGdBjjKNQ5vKHf4XMA7KrY0y0GEObBOO/8e1ywuQExOHXktuQyJALEBpcEqhwtHqgiDuCK5b6i0p2MQpcckIIoh+6hYgTZtO8xlMi6O4tKCF/kOGHEg/W0UUpHW0ZoGNZ1ExZWcn7EErgwt4uj50E/sFBjXXIayWvh7WryjasxarZKssXon0zxvvkc32Q0bqbBCuZiKt9dWFysfQefeL29JYFaeztX6tePaZdz5mYx8+6Zq3Mk0wXECQxlhdzgS2wjBHju3j1RIgKyOMdNUE8X0+RAdbSapS11MRCv1SzUXmO6wGZe2SQYrv2MvCSWEv2VODE6DN7bz8ufypgQKW7uQskFTQHULLKyaEyrnlZbgOGLrV5qrn9U79jjm2HJmgkaVN98AfBub91lGPLZBqdroN5LYgjSu4zYZDDHXZOIPC691HqrWI1900I8qLzgKP4ft8DxEWigprPfrO+KcXno9gZz4jjGewWdUcpGCj0qVFuGPYbl2VturndZ2qRvlL8acDO6lF/DY/VjsFesiUK+ypJ+r/ep+cJkSQxEK4PG4WozgA75TYrDDqStE69K8/mzGEM+JXTeqvmedEElMmwCMm2SLd6bNNF9su02zEtoW6nAQtpMj5Gd7fKa//wqonF7UdtHFsVn+6hf1o7AfriPH7M6EeIUEF5zKVxXbYo7kS/OEtOqDYZKPoBsETIixn0uYrasThmzDkhdKPkz2EnaX0HdQbIgr59vAdGYDqjHrxkjS7WOxkTD8sqEqhiwcJETgBYigrBqF08KyDaje9SZ/I1A7MzaTzMGDEulPtZUkuKcyIRAjxEJPVrnVlb/9wkfij31D/pQt1IN+iL8bGJcstBIO7Y5VI/cwDqURbXhMuJxBqD0KLoK3esWFs0Jz5i5ZvJUAfFJMFb9XmGIOnzGpijpcWYCaMqXSQWp8EnCABepQ0Elyi4wfKfsw78ikIqif1pe1AGPlLmojl1SKxHHXp1L+Ut7AmDQHvhI5xHGi4EooO2BR7k78PEkJOdL7cAxQUZ/Tyclu9gnfwGgOmm2lNHGNmZXsq4Pqgc1EG1ATrvKl8s4R9ywwnqulGUnaRLVhxy8v3ieUwy2hbooT68uscW++DCDH0WSzuoyN2D4LUJ/tLECbcSKznwMIFs0ChF4mRTCnQbIIfk4SHJo6A9BMuTnXTs3Ku/KxsgZWqzuSe+Os8cEUfnMBY6UF5gi3SUbd5K7vDjq5WW0UENJlRsWn4sy21Er/E/AvPQSFHy1p4fgAAAAASUVORK5CYII=');  background-repeat: repeat-x;  background-size: 14px;  height: 28px;}\n",
       "</style>\n"
      ],
      "text/plain": [
       "<IPython.core.display.HTML object>"
      ]
     },
     "metadata": {},
     "output_type": "display_data"
    }
   ],
   "source": [
    "import pandas as pd\n",
    "import datatable as dt"
   ]
  },
  {
   "cell_type": "code",
   "execution_count": 2,
   "metadata": {},
   "outputs": [],
   "source": [
    "# dataset = dt.fread(\"/home/dilyara.baymurzina/markov_dataset/train_markov.csv\")\n",
    "# dataset.to_jay(\"./datasets/russian_chats/train_markov.jay\")"
   ]
  },
  {
   "cell_type": "code",
   "execution_count": 4,
   "metadata": {},
   "outputs": [],
   "source": [
    "# dataset = pd.read_parquet(\"./datasets/russian_chats/train_markov.parquet\")"
   ]
  },
  {
   "cell_type": "code",
   "execution_count": 2,
   "metadata": {},
   "outputs": [],
   "source": [
    "dataset = dt.fread(\"./datasets/russian_chats/train_markov.jay\")"
   ]
  },
  {
   "cell_type": "code",
   "execution_count": 3,
   "metadata": {},
   "outputs": [
    {
     "data": {
      "text/html": [
       "<div class='datatable'>\n",
       "  <table class='frame'>\n",
       "  <thead>\n",
       "    <tr class='colnames'><td class='row_index'></td><th>response</th><th>context</th><th>context/0</th><th>context/1</th><th>context/2</th><th>context/3</th><th>context/4</th><th>context/5</th></tr>\n",
       "    <tr class='coltypes'><td class='row_index'></td><td class='str' title='str64'>&#x25AA;&#x25AA;&#x25AA;&#x25AA;&#x25AA;&#x25AA;&#x25AA;&#x25AA;</td><td class='str' title='str64'>&#x25AA;&#x25AA;&#x25AA;&#x25AA;&#x25AA;&#x25AA;&#x25AA;&#x25AA;</td><td class='str' title='str64'>&#x25AA;&#x25AA;&#x25AA;&#x25AA;&#x25AA;&#x25AA;&#x25AA;&#x25AA;</td><td class='str' title='str64'>&#x25AA;&#x25AA;&#x25AA;&#x25AA;&#x25AA;&#x25AA;&#x25AA;&#x25AA;</td><td class='str' title='str64'>&#x25AA;&#x25AA;&#x25AA;&#x25AA;&#x25AA;&#x25AA;&#x25AA;&#x25AA;</td><td class='str' title='str64'>&#x25AA;&#x25AA;&#x25AA;&#x25AA;&#x25AA;&#x25AA;&#x25AA;&#x25AA;</td><td class='str' title='str64'>&#x25AA;&#x25AA;&#x25AA;&#x25AA;&#x25AA;&#x25AA;&#x25AA;&#x25AA;</td><td class='str' title='str64'>&#x25AA;&#x25AA;&#x25AA;&#x25AA;&#x25AA;&#x25AA;&#x25AA;&#x25AA;</td></tr>\n",
       "  </thead>\n",
       "  <tbody>\n",
       "    <tr><td class='row_index'>0</td><td>Она летает , приседая , Она , должно быть , из Кит&#133;</td><td>БАБОЧКА В ГОСПИТАЛЬНОМ САДУ ( Арсений Александрови&#133;</td><td>Ditfrid , дарю . ––––––––––––––––––––––––––––––– —</td><td>rongo , учитывая одержимость , которой большевики &#133;</td><td>И , кстати , на ДнепроГЭСе не применялся .</td><td>rongo , про \" построен всеми \" — смешно ... на люб&#133;</td><td>построен был всеми , восстановлен нами же ( в част&#133;</td><td>Бан .</td></tr>\n",
       "    <tr><td class='row_index'>1</td><td>« Яблоко »: стало известно , что руководство « Ябл&#133;</td><td>Повторюсь , я не являюсь сторонником жействующего &#133;</td><td>Это не Ходор который разворовывал всё что можно в &#133;</td><td>[ id155888321 | Andrey ], не хотелось бы продолжат&#133;</td><td>И кстати Galaxy S7 самый востребованный и перевыси&#133;</td><td>Мне все равно .</td><td>Но это мое мнение ни кто его не переубедит . Тебе &#133;</td><td>Тебе я вижу все равно , что выбирать .</td></tr>\n",
       "    <tr><td class='row_index'>2</td><td>Смесь льда с лужами , пожалуй - самый сложный вари&#133;</td><td>Маститого &lt; o ref =\" true \"&gt; q3d всегда выдаёт тща&#133;</td><td>Вот где крепкий , неразбавленный адреналин .</td><td>А пока некоторые расслабляются в уютном кафе с жив&#133;</td><td>На полигоне удалось даже залить круглогодичный &amp; q&#133;</td><td>Помощь при спуске - вообще сказочная функция : из &#133;</td><td>градусов : И имитация диагонального вывешивания с &#133;</td><td>Здесь и спуски / подъёмы до 45 (!)</td></tr>\n",
       "    <tr><td class='row_index'>3</td><td>Не по теме немного — а что , прикус мешает жить ил&#133;</td><td>Есть хороший врач — если интересно , напишите в ли&#133;</td><td>Ну и от ситуации .</td><td>Опять же , зависит от того , какие брекеты ставить&#133;</td><td>Бюджет , по моему опыту , от 150 000 рублей и выше&#133;</td><td>Процедура небыстрая , может года полтора – два зан&#133;</td><td>Ответила в личку .</td><td>ПС : из клиники ее уволили потом а можно узнать кт&#133;</td></tr>\n",
       "    <tr><td class='row_index'>4</td><td>Бутер \" чисто с горохом \" — это шедеврально , куша&#133;</td><td>А под ежевикой камамбер что – ли ?</td><td>Это мягкий сыр</td><td>uzhas , ну он таким и должен быть .</td><td>Ernillew , он мне больше загущённую сметану напоми&#133;</td><td>Вкусовые добавки , такие как чеснок , травы добавл&#133;</td><td>После этого отделяют сыворотку от сырного сгустка &#133;</td><td>Для этого в нормализованную молочную смесь добавля&#133;</td></tr>\n",
       "    <tr><td class='row_index'>5</td><td>С 12 - 13 лет начал осозновать .</td><td>НачнуСлабый и неуверенный в себе .</td><td>Жалкий и самонадеянный .</td><td>Тут не психологический форум .</td><td>Я понимаю .</td><td>извините за пост .</td><td>Здравствуйте .</td><td>Только запомните это имя и , обращаясь к нему , пр&#133;</td></tr>\n",
       "    <tr><td class='row_index'>6</td><td>И мы его вернем ! Может нам дадут вознаграждение !&#133;</td><td>Потерянный пес - скейтбордист .</td><td>У нас пес , который катается на скейтборде .</td><td>Он катается на скейтборде .</td><td>Мы еще точно не знаем .</td><td>Поторопитесь !</td><td>Где же еще ему быть .</td><td>Пойдемте .</td></tr>\n",
       "    <tr><td class='row_index'>7</td><td>Вечно готова об хает родину но тем не мене патриот&#133;</td><td>Глядя на без крайние просторах она рада хотя бы 6 &#133;</td><td>Что такое русскоя душа ?</td><td>Это пофигизм , это любов и ненавист к природе , эт&#133;</td><td>И с нова круг , и всегда в без мыслемих масштабах &#133;</td><td>Это тысяча лет страдание , парожение , рабства и п&#133;</td><td>Что такое русская душа ?</td><td>Это то о чем говорят поэти которые знают сердцем о&#133;</td></tr>\n",
       "    <tr><td class='row_index'>8</td><td>Душей у нас не было .</td><td>Большие и маленькие , сильные и слабые занимались &#133;</td><td>DistortNeo , имхо , в школе физра была бестолковая&#133;</td><td>Но с теорией ( как работает организм ) и без оцено&#133;</td><td>Физкультура обязательно должна быть .</td><td>shadows_and_dust , &amp; gt ; В средней школе убрать а&#133;</td><td>Это конечно сложнее и затратнее , чем яйца быкам н&#133;</td><td>Могу еще накидать , просто лень печатать .</td></tr>\n",
       "    <tr><td class='row_index'>9</td><td>Щенков пристраивать , искать свидетелей ДТП или кт&#133;</td><td>Ну , какие боты ?</td><td>Не .</td><td>Кроме того , что ... это точно не боты ?</td><td>Какое уважение , ты о чём вообще .</td><td>Совсем не против максимального употребления украин&#133;</td><td>И ладно бы таким был один человек , но с завидной &#133;</td><td>Или чукча не читатель ?</td></tr>\n",
       "  </tbody>\n",
       "  </table>\n",
       "  <div class='footer'>\n",
       "    <div class='frame_dimensions'>10 rows &times; 8 columns</div>\n",
       "  </div>\n",
       "</div>\n"
      ],
      "text/plain": [
       "<Frame#7f5b4b846240 10x8>"
      ]
     },
     "execution_count": 3,
     "metadata": {},
     "output_type": "execute_result"
    }
   ],
   "source": [
    "dataset.head()"
   ]
  },
  {
   "cell_type": "code",
   "execution_count": 5,
   "metadata": {},
   "outputs": [
    {
     "data": {
      "text/plain": [
       "21573407"
      ]
     },
     "execution_count": 5,
     "metadata": {},
     "output_type": "execute_result"
    }
   ],
   "source": [
    "len(dataset)"
   ]
  },
  {
   "cell_type": "code",
   "execution_count": 23,
   "metadata": {},
   "outputs": [
    {
     "name": "stdout",
     "output_type": "stream",
     "text": [
      "Покупать концентраты .\n",
      "---\n",
      "Не юзать плохосмываемые средства .\n",
      "---\n",
      "Не юзать сильно вонючие или сильно ароматизированные средства .\n",
      "---\n",
      "chosen – one , Не юзать то , не юзать это , а что юзать – то ?\n",
      "---\n",
      "Вопрос в том , какие есть хорошие альтернативы этим нежелательным ингридиентам .\n",
      "---\n",
      "StrangeAttractor , профессиональная химия .\n",
      "---\n",
      "Она много где продается .\n",
      "---\n",
      "chosen – one , и на чём она основана , какие активные ингриденты выполняют в ней ту роль , которую в плохих средствах выполняют щавелевая и соляная кислоты , фосфаты и тому подобное ?\n",
      "---\n"
     ]
    }
   ],
   "source": [
    "for item in reversed(dataset.iloc[9003].tolist()):\n",
    "    print(item)\n",
    "    print(\"---\")"
   ]
  },
  {
   "cell_type": "code",
   "execution_count": null,
   "metadata": {},
   "outputs": [],
   "source": [
    "bad_examples = [\n",
    "\t9002,\n",
    "]"
   ]
  }
 ],
 "metadata": {
  "kernelspec": {
   "display_name": "env",
   "language": "python",
   "name": "python3"
  },
  "language_info": {
   "codemirror_mode": {
    "name": "ipython",
    "version": 3
   },
   "file_extension": ".py",
   "mimetype": "text/x-python",
   "name": "python",
   "nbconvert_exporter": "python",
   "pygments_lexer": "ipython3",
   "version": "3.8.10"
  },
  "orig_nbformat": 4,
  "vscode": {
   "interpreter": {
    "hash": "afbd04eaf482342bd8c806741887bf29b8900f429828e19eaba1f287fa9febed"
   }
  }
 },
 "nbformat": 4,
 "nbformat_minor": 2
}
