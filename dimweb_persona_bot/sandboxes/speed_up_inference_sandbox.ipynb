{
 "cells": [
  {
   "attachments": {},
   "cell_type": "markdown",
   "metadata": {},
   "source": [
    "https://colab.research.google.com/drive/1YORPWx4okIHXnjW7MSAidXN29mPVNT7F?usp=sharing#scrollTo=Aep1KMF6dqdm"
   ]
  },
  {
   "cell_type": "code",
   "execution_count": 1,
   "metadata": {},
   "outputs": [
    {
     "name": "stderr",
     "output_type": "stream",
     "text": [
      "/home/dimweb/Desktop/deeppavlov/inference_env/lib/python3.10/site-packages/tqdm/auto.py:22: TqdmWarning: IProgress not found. Please update jupyter and ipywidgets. See https://ipywidgets.readthedocs.io/en/stable/user_install.html\n",
      "  from .autonotebook import tqdm as notebook_tqdm\n"
     ]
    }
   ],
   "source": [
    "from transformers import AutoModelForSeq2SeqLM, AutoTokenizer\n",
    "import torch\n",
    "\n",
    "# T5-3b and T5-11B are supported!\n",
    "# We need sharded weights otherwise we get CPU OOM errors\n",
    "model_id=f\"dim/persona_bot_2_28akcwik\"\n",
    "\n",
    "tokenizer = AutoTokenizer.from_pretrained(model_id)\n",
    "model_8bit = AutoModelForSeq2SeqLM.from_pretrained(\n",
    "    model_id, \n",
    "    device_map=\"auto\", \n",
    "    load_in_8bit=True\n",
    ")\n",
    "\n",
    "model = AutoModelForSeq2SeqLM.from_pretrained(\n",
    "    model_id,\n",
    "    device_map=\"auto\",\n",
    ")"
   ]
  },
  {
   "cell_type": "code",
   "execution_count": 2,
   "metadata": {},
   "outputs": [
    {
     "data": {
      "text/plain": [
       "(device(type='cuda', index=0), device(type='cuda', index=0))"
      ]
     },
     "execution_count": 2,
     "metadata": {},
     "output_type": "execute_result"
    }
   ],
   "source": [
    "model.device, model_8bit.device"
   ]
  },
  {
   "cell_type": "code",
   "execution_count": 12,
   "metadata": {},
   "outputs": [
    {
     "data": {
      "text/plain": [
       "(866.710884, 334.26500999999996)"
      ]
     },
     "execution_count": 12,
     "metadata": {},
     "output_type": "execute_result"
    }
   ],
   "source": [
    "model.get_memory_footprint() * 0.000001, model_8bit.get_memory_footprint() * 0.000001"
   ]
  },
  {
   "cell_type": "code",
   "execution_count": null,
   "metadata": {},
   "outputs": [],
   "source": []
  },
  {
   "cell_type": "code",
   "execution_count": 3,
   "metadata": {},
   "outputs": [],
   "source": [
    "from dimweb_persona_bot.inference.seq2seq_bots import DialogBotV2\n",
    "from dimweb_persona_bot.hyperparameters.causal_modeling_hyperparameters import H2PersonaChatHyperparametersV1\n",
    "\n",
    "\n",
    "hyperparameters = H2PersonaChatHyperparametersV1(\n",
    "\tchat_history_pair_length=7,\n",
    "\tpersona_max_length=14,\n",
    "\tchat_max_length=25,\n",
    "\tdebug_status=1,\n",
    ")\n",
    "\n",
    "bot2 = DialogBotV2(\n",
    "\tmodel=model,\n",
    "\ttokenizer=tokenizer,\n",
    "\thyperparameters=hyperparameters,\n",
    "\thistory=[],\n",
    "\tpersona=[\n",
    "\t\t\"i'm also a graduate student .\",\n",
    "\t\t\"i enjoy reading journals and guides related to psychology .\",\n",
    "\t\t\"my parents taught me survival skills .\",\n",
    "\t\t\"i walk dogs for a living .\",\n",
    "\t],\n",
    ")\n",
    "\n",
    "bot2_int8 = DialogBotV2(\n",
    "    model=model_8bit,\n",
    "\ttokenizer=tokenizer,\n",
    "\thyperparameters=hyperparameters,\n",
    "\thistory=[],\n",
    "\tpersona=[\n",
    "\t\t\"i'm also a graduate student .\",\n",
    "\t\t\"i enjoy reading journals and guides related to psychology .\",\n",
    "\t\t\"my parents taught me survival skills .\",\n",
    "\t\t\"i walk dogs for a living .\",\n",
    "\t],\n",
    ")"
   ]
  },
  {
   "cell_type": "code",
   "execution_count": 13,
   "metadata": {},
   "outputs": [
    {
     "data": {
      "text/plain": [
       "'i like dogs, i walk them for a living.'"
      ]
     },
     "execution_count": 13,
     "metadata": {},
     "output_type": "execute_result"
    }
   ],
   "source": [
    "bot2.single_chat(message=\"What do you like?\")"
   ]
  },
  {
   "cell_type": "code",
   "execution_count": 14,
   "metadata": {},
   "outputs": [
    {
     "data": {
      "text/plain": [
       "'i like dogs, i walk them for a living.'"
      ]
     },
     "execution_count": 14,
     "metadata": {},
     "output_type": "execute_result"
    }
   ],
   "source": [
    "bot2_int8.single_chat(message=\"What do you like?\")"
   ]
  }
 ],
 "metadata": {
  "kernelspec": {
   "display_name": "inference_env",
   "language": "python",
   "name": "python3"
  },
  "language_info": {
   "codemirror_mode": {
    "name": "ipython",
    "version": 3
   },
   "file_extension": ".py",
   "mimetype": "text/x-python",
   "name": "python",
   "nbconvert_exporter": "python",
   "pygments_lexer": "ipython3",
   "version": "3.10.6"
  },
  "orig_nbformat": 4,
  "vscode": {
   "interpreter": {
    "hash": "e15c22aa0e82bc53c29339a2582eaf7d3539f9e5bfe48fc21dc9b10a77e99ed2"
   }
  }
 },
 "nbformat": 4,
 "nbformat_minor": 2
}
