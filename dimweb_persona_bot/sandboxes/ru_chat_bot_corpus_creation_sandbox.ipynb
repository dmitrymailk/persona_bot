{
 "cells": [
  {
   "attachments": {},
   "cell_type": "markdown",
   "metadata": {},
   "source": [
    "# cornell_movie_corpus"
   ]
  },
  {
   "cell_type": "code",
   "execution_count": 1,
   "metadata": {},
   "outputs": [],
   "source": [
    "dataset_path = \"./datasets/cornell_movie_corpus/cornell_movie_corpus.txt\"\n",
    "part_dataset = \"./datasets/cornell_movie_corpus/cornell_movie_corpus_part.txt\"\n",
    "dataset_size = 10000\n",
    "with open(dataset_path, 'r') as original_dataset:\n",
    "    with open(part_dataset, 'w') as temp_dataset:\n",
    "        part_dataset_str = \"\".join([next(original_dataset) for _ in range(dataset_size)])\n",
    "        temp_dataset.write(part_dataset_str)"
   ]
  },
  {
   "cell_type": "code",
   "execution_count": 34,
   "metadata": {},
   "outputs": [
    {
     "name": "stdout",
     "output_type": "stream",
     "text": [
      "Label: '2_Привет, норм а у тебя?' | Input data: ['1_Привет, как дела?']\n",
      "Label: '1_Сижу смотрю мемы вк' | Input data: ['1_Привет, как дела?', '2_Привет, норм а у тебя?']\n",
      "Label: '2_Видел новый мем с собакой-кусакой?' | Input data: ['1_Привет, как дела?', '2_Привет, норм а у тебя?', '1_Сижу смотрю мемы вк']\n",
      "Label: '1_Нет, покажи' | Input data: ['1_Привет, как дела?', '2_Привет, норм а у тебя?', '1_Сижу смотрю мемы вк', '2_Видел новый мем с собакой-кусакой?']\n",
      "Dialog: ['1_Привет, как дела?', '2_Привет, норм а у тебя?']\n",
      "Dialog: ['1_Привет, как дела?', '2_Привет, норм а у тебя?', '1_Сижу смотрю мемы вк', '2_Видел новый мем с собакой-кусакой?']\n",
      "---\n",
      "Dialog: ['2_Привет, норм а у тебя?', '1_Сижу смотрю мемы вк']\n",
      "Dialog: ['2_Привет, норм а у тебя?', '1_Сижу смотрю мемы вк', '2_Видел новый мем с собакой-кусакой?', '1_Нет, покажи']\n"
     ]
    }
   ],
   "source": [
    "test_data = [\n",
    " \"1_Привет, как дела?\",\n",
    " \"2_Привет, норм а у тебя?\",\n",
    " \"1_Сижу смотрю мемы вк\",\n",
    " \"2_Видел новый мем с собакой-кусакой?\",\n",
    " \"1_Нет, покажи\"\n",
    "]\n",
    "for i in range(1, len(test_data), 1):\n",
    "    input_data = test_data[:i]\n",
    "    labels = test_data[i]\n",
    "    print(f\"Label: '{labels}' | Input data: {input_data}\") \n",
    "    \n",
    "for i in range(1, len(test_data) // 2 + 1):\n",
    "    input_data = test_data[:i*2]\n",
    "    print(f\"Dialog: {input_data}\") \n",
    "print(\"---\")\n",
    "test_data_2 = test_data[:]\n",
    "test_data_2.pop(0)\n",
    "for i in range(1, len(test_data_2) // 2 +1):\n",
    "    input_data = test_data_2[:i*2]\n",
    "    print(f\"Dialog: {input_data}\")"
   ]
  },
  {
   "cell_type": "code",
   "execution_count": 1,
   "metadata": {},
   "outputs": [
    {
     "data": {
      "text/plain": [
       "{'context': ['Ты приглашаешь меня на свидание. Это так мило. Напомни, как тебя зовут?',\n",
       "  'Забудь об этом.'],\n",
       " 'knowledge': '',\n",
       " 'sample_id': '0_0_1',\n",
       " 'dataset_source': 'RUCornellMovieCorpusV1'}"
      ]
     },
     "execution_count": 1,
     "metadata": {},
     "output_type": "execute_result"
    }
   ],
   "source": [
    "from dimweb_persona_bot.dataloaders.ru_cornel_movie_corpus_dataloaders import RUCornellMovieCorpusV1\n",
    "    \n",
    "\n",
    "dataset = RUCornellMovieCorpusV1(\n",
    "    input_dataset_path='./datasets/cornell_movie_corpus/cornell_movie_corpus.txt'\n",
    ")\n",
    "\n",
    "dataset[0]"
   ]
  },
  {
   "cell_type": "code",
   "execution_count": 2,
   "metadata": {},
   "outputs": [
    {
     "data": {
      "text/plain": [
       "{'context': ['Я был?', 'Ты никогда не хотела встречаться со мной, не так ли?'],\n",
       " 'knowledge': '',\n",
       " 'sample_id': '11_1_1',\n",
       " 'dataset_source': 'RUCornellMovieCorpusV1'}"
      ]
     },
     "execution_count": 2,
     "metadata": {},
     "output_type": "execute_result"
    }
   ],
   "source": [
    "dataset[13]"
   ]
  },
  {
   "cell_type": "code",
   "execution_count": 3,
   "metadata": {},
   "outputs": [
    {
     "data": {
      "text/html": [
       "<div>\n",
       "<style scoped>\n",
       "    .dataframe tbody tr th:only-of-type {\n",
       "        vertical-align: middle;\n",
       "    }\n",
       "\n",
       "    .dataframe tbody tr th {\n",
       "        vertical-align: top;\n",
       "    }\n",
       "\n",
       "    .dataframe thead th {\n",
       "        text-align: right;\n",
       "    }\n",
       "</style>\n",
       "<table border=\"1\" class=\"dataframe\">\n",
       "  <thead>\n",
       "    <tr style=\"text-align: right;\">\n",
       "      <th></th>\n",
       "      <th>context</th>\n",
       "      <th>knowledge</th>\n",
       "      <th>sample_id</th>\n",
       "      <th>dataset_source</th>\n",
       "    </tr>\n",
       "  </thead>\n",
       "  <tbody>\n",
       "    <tr>\n",
       "      <th>0</th>\n",
       "      <td>[Ты приглашаешь меня на свидание. Это так мило...</td>\n",
       "      <td></td>\n",
       "      <td>0_0_1</td>\n",
       "      <td>RUCornellMovieCorpusV1</td>\n",
       "    </tr>\n",
       "    <tr>\n",
       "      <th>1</th>\n",
       "      <td>[Боже, если бы только мы могли найти Кэт парня...</td>\n",
       "      <td></td>\n",
       "      <td>1_0_1</td>\n",
       "      <td>RUCornellMovieCorpusV1</td>\n",
       "    </tr>\n",
       "    <tr>\n",
       "      <th>2</th>\n",
       "      <td>[Как продвигается наш маленький план \"Найди де...</td>\n",
       "      <td></td>\n",
       "      <td>2_0_1</td>\n",
       "      <td>RUCornellMovieCorpusV1</td>\n",
       "    </tr>\n",
       "    <tr>\n",
       "      <th>3</th>\n",
       "      <td>[Вот так., Куда?]</td>\n",
       "      <td></td>\n",
       "      <td>3_0_1</td>\n",
       "      <td>RUCornellMovieCorpusV1</td>\n",
       "    </tr>\n",
       "    <tr>\n",
       "      <th>4</th>\n",
       "      <td>[У тебя что-то на уме?, Я рассчитывал, что вы ...</td>\n",
       "      <td></td>\n",
       "      <td>4_0_1</td>\n",
       "      <td>RUCornellMovieCorpusV1</td>\n",
       "    </tr>\n",
       "    <tr>\n",
       "      <th>...</th>\n",
       "      <td>...</td>\n",
       "      <td>...</td>\n",
       "      <td>...</td>\n",
       "      <td>...</td>\n",
       "    </tr>\n",
       "    <tr>\n",
       "      <th>110425</th>\n",
       "      <td>[Это контрабанда. Не спрашивай. Но я хотел теб...</td>\n",
       "      <td></td>\n",
       "      <td>51101_0_1</td>\n",
       "      <td>RUCornellMovieCorpusV1</td>\n",
       "    </tr>\n",
       "    <tr>\n",
       "      <th>110426</th>\n",
       "      <td>[Ты уходишь от нас?, О нет. Мы всегда будем вм...</td>\n",
       "      <td></td>\n",
       "      <td>51102_0_1</td>\n",
       "      <td>RUCornellMovieCorpusV1</td>\n",
       "    </tr>\n",
       "    <tr>\n",
       "      <th>110427</th>\n",
       "      <td>[Совет кардиналов! Я так нервничаю! Что, если ...</td>\n",
       "      <td></td>\n",
       "      <td>51103_0_1</td>\n",
       "      <td>RUCornellMovieCorpusV1</td>\n",
       "    </tr>\n",
       "    <tr>\n",
       "      <th>110428</th>\n",
       "      <td>[Совет кардиналов! Я так нервничаю! Что, если ...</td>\n",
       "      <td></td>\n",
       "      <td>51103_0_2</td>\n",
       "      <td>RUCornellMovieCorpusV1</td>\n",
       "    </tr>\n",
       "    <tr>\n",
       "      <th>110429</th>\n",
       "      <td>[Прямо в ад. Шучу. Где этот автобус?, ]</td>\n",
       "      <td></td>\n",
       "      <td>51103_1_1</td>\n",
       "      <td>RUCornellMovieCorpusV1</td>\n",
       "    </tr>\n",
       "  </tbody>\n",
       "</table>\n",
       "<p>110430 rows × 4 columns</p>\n",
       "</div>"
      ],
      "text/plain": [
       "                                                  context knowledge  \\\n",
       "0       [Ты приглашаешь меня на свидание. Это так мило...             \n",
       "1       [Боже, если бы только мы могли найти Кэт парня...             \n",
       "2       [Как продвигается наш маленький план \"Найди де...             \n",
       "3                                       [Вот так., Куда?]             \n",
       "4       [У тебя что-то на уме?, Я рассчитывал, что вы ...             \n",
       "...                                                   ...       ...   \n",
       "110425  [Это контрабанда. Не спрашивай. Но я хотел теб...             \n",
       "110426  [Ты уходишь от нас?, О нет. Мы всегда будем вм...             \n",
       "110427  [Совет кардиналов! Я так нервничаю! Что, если ...             \n",
       "110428  [Совет кардиналов! Я так нервничаю! Что, если ...             \n",
       "110429            [Прямо в ад. Шучу. Где этот автобус?, ]             \n",
       "\n",
       "        sample_id          dataset_source  \n",
       "0           0_0_1  RUCornellMovieCorpusV1  \n",
       "1           1_0_1  RUCornellMovieCorpusV1  \n",
       "2           2_0_1  RUCornellMovieCorpusV1  \n",
       "3           3_0_1  RUCornellMovieCorpusV1  \n",
       "4           4_0_1  RUCornellMovieCorpusV1  \n",
       "...           ...                     ...  \n",
       "110425  51101_0_1  RUCornellMovieCorpusV1  \n",
       "110426  51102_0_1  RUCornellMovieCorpusV1  \n",
       "110427  51103_0_1  RUCornellMovieCorpusV1  \n",
       "110428  51103_0_2  RUCornellMovieCorpusV1  \n",
       "110429  51103_1_1  RUCornellMovieCorpusV1  \n",
       "\n",
       "[110430 rows x 4 columns]"
      ]
     },
     "execution_count": 3,
     "metadata": {},
     "output_type": "execute_result"
    }
   ],
   "source": [
    "dataset.to_pandas()"
   ]
  },
  {
   "attachments": {},
   "cell_type": "markdown",
   "metadata": {},
   "source": [
    "# Ru anekdots dialogs"
   ]
  },
  {
   "cell_type": "code",
   "execution_count": 10,
   "metadata": {},
   "outputs": [
    {
     "data": {
      "text/plain": [
       "{'context': ['Как водичка ?',\n",
       "  'А я здесь как женшина сижу, а не как термометр.'],\n",
       " 'knowledge': '',\n",
       " 'sample_id': '0_0_1',\n",
       " 'dataset_source': 'RUAnekdotsDialogsV1'}"
      ]
     },
     "execution_count": 10,
     "metadata": {},
     "output_type": "execute_result"
    }
   ],
   "source": [
    "from dimweb_persona_bot.dataloaders.ru_anekdots_dialogs_dataloaders import RUAnekdotsDialogsV1\n",
    "\n",
    "dataset = RUAnekdotsDialogsV1(\n",
    "    input_dataset_path='./datasets/ru_anekdots_dialogs/ru_anekdots_dialogs.txt'\n",
    ")\n",
    "\n",
    "dataset[0]"
   ]
  },
  {
   "cell_type": "code",
   "execution_count": 11,
   "metadata": {},
   "outputs": [
    {
     "data": {
      "text/plain": [
       "{'context': ['В стране куча хорошеньких девушек, которые не хотят замуж.',\n",
       "  'Откуда знаешь?'],\n",
       " 'knowledge': '',\n",
       " 'sample_id': '40_0_1',\n",
       " 'dataset_source': 'RUAnekdotsDialogsV1'}"
      ]
     },
     "execution_count": 11,
     "metadata": {},
     "output_type": "execute_result"
    }
   ],
   "source": [
    "dataset[101]"
   ]
  },
  {
   "cell_type": "code",
   "execution_count": 12,
   "metadata": {},
   "outputs": [
    {
     "data": {
      "text/html": [
       "<div>\n",
       "<style scoped>\n",
       "    .dataframe tbody tr th:only-of-type {\n",
       "        vertical-align: middle;\n",
       "    }\n",
       "\n",
       "    .dataframe tbody tr th {\n",
       "        vertical-align: top;\n",
       "    }\n",
       "\n",
       "    .dataframe thead th {\n",
       "        text-align: right;\n",
       "    }\n",
       "</style>\n",
       "<table border=\"1\" class=\"dataframe\">\n",
       "  <thead>\n",
       "    <tr style=\"text-align: right;\">\n",
       "      <th></th>\n",
       "      <th>context</th>\n",
       "      <th>knowledge</th>\n",
       "      <th>sample_id</th>\n",
       "      <th>dataset_source</th>\n",
       "    </tr>\n",
       "  </thead>\n",
       "  <tbody>\n",
       "    <tr>\n",
       "      <th>0</th>\n",
       "      <td>[Как водичка ?, А я здесь как женшина сижу, а ...</td>\n",
       "      <td></td>\n",
       "      <td>0_0_1</td>\n",
       "      <td>RUAnekdotsDialogsV1</td>\n",
       "    </tr>\n",
       "    <tr>\n",
       "      <th>1</th>\n",
       "      <td>[Я затрудняюсь поставить вам диагноз ... Навер...</td>\n",
       "      <td></td>\n",
       "      <td>1_0_1</td>\n",
       "      <td>RUAnekdotsDialogsV1</td>\n",
       "    </tr>\n",
       "    <tr>\n",
       "      <th>2</th>\n",
       "      <td>[Что такое дефицит в маркистском понимании?, Э...</td>\n",
       "      <td></td>\n",
       "      <td>2_0_1</td>\n",
       "      <td>RUAnekdotsDialogsV1</td>\n",
       "    </tr>\n",
       "    <tr>\n",
       "      <th>3</th>\n",
       "      <td>[Что такое дефицит в маркистском понимании?, Э...</td>\n",
       "      <td></td>\n",
       "      <td>2_0_2</td>\n",
       "      <td>RUAnekdotsDialogsV1</td>\n",
       "    </tr>\n",
       "    <tr>\n",
       "      <th>4</th>\n",
       "      <td>[Это объективная реальность, не данная нам в о...</td>\n",
       "      <td></td>\n",
       "      <td>2_1_1</td>\n",
       "      <td>RUAnekdotsDialogsV1</td>\n",
       "    </tr>\n",
       "    <tr>\n",
       "      <th>...</th>\n",
       "      <td>...</td>\n",
       "      <td>...</td>\n",
       "      <td>...</td>\n",
       "      <td>...</td>\n",
       "    </tr>\n",
       "    <tr>\n",
       "      <th>164769</th>\n",
       "      <td>[Алло, милиция?!, Да!, Быстрее приезжайте, мен...</td>\n",
       "      <td></td>\n",
       "      <td>87718_0_3</td>\n",
       "      <td>RUAnekdotsDialogsV1</td>\n",
       "    </tr>\n",
       "    <tr>\n",
       "      <th>164770</th>\n",
       "      <td>[Да!, Быстрее приезжайте, меня насилуют!]</td>\n",
       "      <td></td>\n",
       "      <td>87718_1_1</td>\n",
       "      <td>RUAnekdotsDialogsV1</td>\n",
       "    </tr>\n",
       "    <tr>\n",
       "      <th>164771</th>\n",
       "      <td>[Да!, Быстрее приезжайте, меня насилуют!, Куда...</td>\n",
       "      <td></td>\n",
       "      <td>87718_1_2</td>\n",
       "      <td>RUAnekdotsDialogsV1</td>\n",
       "    </tr>\n",
       "    <tr>\n",
       "      <th>164772</th>\n",
       "      <td>[Пап, я в пятницу на свадьбу иду, дай денег., ...</td>\n",
       "      <td></td>\n",
       "      <td>87719_0_1</td>\n",
       "      <td>RUAnekdotsDialogsV1</td>\n",
       "    </tr>\n",
       "    <tr>\n",
       "      <th>164773</th>\n",
       "      <td>[Пять тысяч хватит?, Ну ты чо?! Платье, фата...]</td>\n",
       "      <td></td>\n",
       "      <td>87719_1_1</td>\n",
       "      <td>RUAnekdotsDialogsV1</td>\n",
       "    </tr>\n",
       "  </tbody>\n",
       "</table>\n",
       "<p>164774 rows × 4 columns</p>\n",
       "</div>"
      ],
      "text/plain": [
       "                                                  context knowledge  \\\n",
       "0       [Как водичка ?, А я здесь как женшина сижу, а ...             \n",
       "1       [Я затрудняюсь поставить вам диагноз ... Навер...             \n",
       "2       [Что такое дефицит в маркистском понимании?, Э...             \n",
       "3       [Что такое дефицит в маркистском понимании?, Э...             \n",
       "4       [Это объективная реальность, не данная нам в о...             \n",
       "...                                                   ...       ...   \n",
       "164769  [Алло, милиция?!, Да!, Быстрее приезжайте, мен...             \n",
       "164770          [Да!, Быстрее приезжайте, меня насилуют!]             \n",
       "164771  [Да!, Быстрее приезжайте, меня насилуют!, Куда...             \n",
       "164772  [Пап, я в пятницу на свадьбу иду, дай денег., ...             \n",
       "164773   [Пять тысяч хватит?, Ну ты чо?! Платье, фата...]             \n",
       "\n",
       "        sample_id       dataset_source  \n",
       "0           0_0_1  RUAnekdotsDialogsV1  \n",
       "1           1_0_1  RUAnekdotsDialogsV1  \n",
       "2           2_0_1  RUAnekdotsDialogsV1  \n",
       "3           2_0_2  RUAnekdotsDialogsV1  \n",
       "4           2_1_1  RUAnekdotsDialogsV1  \n",
       "...           ...                  ...  \n",
       "164769  87718_0_3  RUAnekdotsDialogsV1  \n",
       "164770  87718_1_1  RUAnekdotsDialogsV1  \n",
       "164771  87718_1_2  RUAnekdotsDialogsV1  \n",
       "164772  87719_0_1  RUAnekdotsDialogsV1  \n",
       "164773  87719_1_1  RUAnekdotsDialogsV1  \n",
       "\n",
       "[164774 rows x 4 columns]"
      ]
     },
     "execution_count": 12,
     "metadata": {},
     "output_type": "execute_result"
    }
   ],
   "source": [
    "dataset.to_pandas()"
   ]
  },
  {
   "attachments": {},
   "cell_type": "markdown",
   "metadata": {},
   "source": [
    "# flibusta_dialogues"
   ]
  },
  {
   "cell_type": "code",
   "execution_count": 1,
   "metadata": {},
   "outputs": [
    {
     "data": {
      "text/plain": [
       "{'context': ['Почему тебя отпустили, а Кирилла нет?',\n",
       "  'Я сбежал, из горящей гостиницы.'],\n",
       " 'knowledge': '',\n",
       " 'sample_id': '0_0_1',\n",
       " 'dataset_source': 'RUFlibustaDialogsV1'}"
      ]
     },
     "execution_count": 1,
     "metadata": {},
     "output_type": "execute_result"
    }
   ],
   "source": [
    "from dimweb_persona_bot.dataloaders.ru_flibusta_dialogs_dataloaders import RUFlibustaDialogsV1\n",
    "\n",
    "dataset = RUFlibustaDialogsV1(\n",
    "    input_dataset_path='./datasets/flibusta_dialogues/flibusta_dialogues.txt'\n",
    ")\n",
    "\n",
    "dataset[0]"
   ]
  },
  {
   "cell_type": "code",
   "execution_count": 3,
   "metadata": {},
   "outputs": [
    {
     "data": {
      "text/plain": [
       "{'context': ['Пряталась у себя в норе, чтобы зализать раны',\n",
       "  'Я всегда говорил, что в тебе есть что то от лисы'],\n",
       " 'knowledge': '',\n",
       " 'sample_id': '74_1_1',\n",
       " 'dataset_source': 'RUFlibustaDialogsV1'}"
      ]
     },
     "execution_count": 3,
     "metadata": {},
     "output_type": "execute_result"
    }
   ],
   "source": [
    "dataset[100]"
   ]
  },
  {
   "cell_type": "code",
   "execution_count": null,
   "metadata": {},
   "outputs": [],
   "source": []
  }
 ],
 "metadata": {
  "kernelspec": {
   "display_name": "env",
   "language": "python",
   "name": "python3"
  },
  "language_info": {
   "codemirror_mode": {
    "name": "ipython",
    "version": 3
   },
   "file_extension": ".py",
   "mimetype": "text/x-python",
   "name": "python",
   "nbconvert_exporter": "python",
   "pygments_lexer": "ipython3",
   "version": "3.8.10"
  },
  "orig_nbformat": 4,
  "vscode": {
   "interpreter": {
    "hash": "afbd04eaf482342bd8c806741887bf29b8900f429828e19eaba1f287fa9febed"
   }
  }
 },
 "nbformat": 4,
 "nbformat_minor": 2
}
