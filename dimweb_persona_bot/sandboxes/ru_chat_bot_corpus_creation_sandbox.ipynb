{
 "cells": [
  {
   "attachments": {},
   "cell_type": "markdown",
   "metadata": {},
   "source": [
    "# cornell_movie_corpus"
   ]
  },
  {
   "cell_type": "code",
   "execution_count": 1,
   "metadata": {},
   "outputs": [],
   "source": [
    "dataset_path = \"./datasets/cornell_movie_corpus/cornell_movie_corpus.txt\"\n",
    "part_dataset = \"./datasets/cornell_movie_corpus/cornell_movie_corpus_part.txt\"\n",
    "dataset_size = 10000\n",
    "with open(dataset_path, 'r') as original_dataset:\n",
    "    with open(part_dataset, 'w') as temp_dataset:\n",
    "        part_dataset_str = \"\".join([next(original_dataset) for _ in range(dataset_size)])\n",
    "        temp_dataset.write(part_dataset_str)"
   ]
  },
  {
   "cell_type": "code",
   "execution_count": 34,
   "metadata": {},
   "outputs": [
    {
     "name": "stdout",
     "output_type": "stream",
     "text": [
      "Label: '2_Привет, норм а у тебя?' | Input data: ['1_Привет, как дела?']\n",
      "Label: '1_Сижу смотрю мемы вк' | Input data: ['1_Привет, как дела?', '2_Привет, норм а у тебя?']\n",
      "Label: '2_Видел новый мем с собакой-кусакой?' | Input data: ['1_Привет, как дела?', '2_Привет, норм а у тебя?', '1_Сижу смотрю мемы вк']\n",
      "Label: '1_Нет, покажи' | Input data: ['1_Привет, как дела?', '2_Привет, норм а у тебя?', '1_Сижу смотрю мемы вк', '2_Видел новый мем с собакой-кусакой?']\n",
      "Dialog: ['1_Привет, как дела?', '2_Привет, норм а у тебя?']\n",
      "Dialog: ['1_Привет, как дела?', '2_Привет, норм а у тебя?', '1_Сижу смотрю мемы вк', '2_Видел новый мем с собакой-кусакой?']\n",
      "---\n",
      "Dialog: ['2_Привет, норм а у тебя?', '1_Сижу смотрю мемы вк']\n",
      "Dialog: ['2_Привет, норм а у тебя?', '1_Сижу смотрю мемы вк', '2_Видел новый мем с собакой-кусакой?', '1_Нет, покажи']\n"
     ]
    }
   ],
   "source": [
    "test_data = [\n",
    " \"1_Привет, как дела?\",\n",
    " \"2_Привет, норм а у тебя?\",\n",
    " \"1_Сижу смотрю мемы вк\",\n",
    " \"2_Видел новый мем с собакой-кусакой?\",\n",
    " \"1_Нет, покажи\"\n",
    "]\n",
    "for i in range(1, len(test_data), 1):\n",
    "    input_data = test_data[:i]\n",
    "    labels = test_data[i]\n",
    "    print(f\"Label: '{labels}' | Input data: {input_data}\") \n",
    "    \n",
    "for i in range(1, len(test_data) // 2 + 1):\n",
    "    input_data = test_data[:i*2]\n",
    "    print(f\"Dialog: {input_data}\") \n",
    "print(\"---\")\n",
    "test_data_2 = test_data[:]\n",
    "test_data_2.pop(0)\n",
    "for i in range(1, len(test_data_2) // 2 +1):\n",
    "    input_data = test_data_2[:i*2]\n",
    "    print(f\"Dialog: {input_data}\")"
   ]
  },
  {
   "cell_type": "code",
   "execution_count": 1,
   "metadata": {},
   "outputs": [
    {
     "data": {
      "text/plain": [
       "{'context': ['Ты приглашаешь меня на свидание. Это так мило. Напомни, как тебя зовут?',\n",
       "  'Забудь об этом.'],\n",
       " 'knowledge': '',\n",
       " 'sample_id': '0_0_1',\n",
       " 'dataset_source': 'RUCornellMovieCorpusV1'}"
      ]
     },
     "execution_count": 1,
     "metadata": {},
     "output_type": "execute_result"
    }
   ],
   "source": [
    "from dimweb_persona_bot.dataloaders.ru_cornel_movie_corpus_dataloaders import RUCornellMovieCorpusV1\n",
    "    \n",
    "\n",
    "dataset = RUCornellMovieCorpusV1(\n",
    "    input_dataset_path='./datasets/cornell_movie_corpus/cornell_movie_corpus.txt'\n",
    ")\n",
    "\n",
    "dataset[0]"
   ]
  },
  {
   "cell_type": "code",
   "execution_count": 2,
   "metadata": {},
   "outputs": [
    {
     "data": {
      "text/plain": [
       "{'context': ['Я был?', 'Ты никогда не хотела встречаться со мной, не так ли?'],\n",
       " 'knowledge': '',\n",
       " 'sample_id': '11_1_1',\n",
       " 'dataset_source': 'RUCornellMovieCorpusV1'}"
      ]
     },
     "execution_count": 2,
     "metadata": {},
     "output_type": "execute_result"
    }
   ],
   "source": [
    "dataset[13]"
   ]
  },
  {
   "cell_type": "code",
   "execution_count": 3,
   "metadata": {},
   "outputs": [
    {
     "data": {
      "text/html": [
       "<div>\n",
       "<style scoped>\n",
       "    .dataframe tbody tr th:only-of-type {\n",
       "        vertical-align: middle;\n",
       "    }\n",
       "\n",
       "    .dataframe tbody tr th {\n",
       "        vertical-align: top;\n",
       "    }\n",
       "\n",
       "    .dataframe thead th {\n",
       "        text-align: right;\n",
       "    }\n",
       "</style>\n",
       "<table border=\"1\" class=\"dataframe\">\n",
       "  <thead>\n",
       "    <tr style=\"text-align: right;\">\n",
       "      <th></th>\n",
       "      <th>context</th>\n",
       "      <th>knowledge</th>\n",
       "      <th>sample_id</th>\n",
       "      <th>dataset_source</th>\n",
       "    </tr>\n",
       "  </thead>\n",
       "  <tbody>\n",
       "    <tr>\n",
       "      <th>0</th>\n",
       "      <td>[Ты приглашаешь меня на свидание. Это так мило...</td>\n",
       "      <td></td>\n",
       "      <td>0_0_1</td>\n",
       "      <td>RUCornellMovieCorpusV1</td>\n",
       "    </tr>\n",
       "    <tr>\n",
       "      <th>1</th>\n",
       "      <td>[Боже, если бы только мы могли найти Кэт парня...</td>\n",
       "      <td></td>\n",
       "      <td>1_0_1</td>\n",
       "      <td>RUCornellMovieCorpusV1</td>\n",
       "    </tr>\n",
       "    <tr>\n",
       "      <th>2</th>\n",
       "      <td>[Как продвигается наш маленький план \"Найди де...</td>\n",
       "      <td></td>\n",
       "      <td>2_0_1</td>\n",
       "      <td>RUCornellMovieCorpusV1</td>\n",
       "    </tr>\n",
       "    <tr>\n",
       "      <th>3</th>\n",
       "      <td>[Вот так., Куда?]</td>\n",
       "      <td></td>\n",
       "      <td>3_0_1</td>\n",
       "      <td>RUCornellMovieCorpusV1</td>\n",
       "    </tr>\n",
       "    <tr>\n",
       "      <th>4</th>\n",
       "      <td>[У тебя что-то на уме?, Я рассчитывал, что вы ...</td>\n",
       "      <td></td>\n",
       "      <td>4_0_1</td>\n",
       "      <td>RUCornellMovieCorpusV1</td>\n",
       "    </tr>\n",
       "    <tr>\n",
       "      <th>...</th>\n",
       "      <td>...</td>\n",
       "      <td>...</td>\n",
       "      <td>...</td>\n",
       "      <td>...</td>\n",
       "    </tr>\n",
       "    <tr>\n",
       "      <th>110425</th>\n",
       "      <td>[Это контрабанда. Не спрашивай. Но я хотел теб...</td>\n",
       "      <td></td>\n",
       "      <td>51101_0_1</td>\n",
       "      <td>RUCornellMovieCorpusV1</td>\n",
       "    </tr>\n",
       "    <tr>\n",
       "      <th>110426</th>\n",
       "      <td>[Ты уходишь от нас?, О нет. Мы всегда будем вм...</td>\n",
       "      <td></td>\n",
       "      <td>51102_0_1</td>\n",
       "      <td>RUCornellMovieCorpusV1</td>\n",
       "    </tr>\n",
       "    <tr>\n",
       "      <th>110427</th>\n",
       "      <td>[Совет кардиналов! Я так нервничаю! Что, если ...</td>\n",
       "      <td></td>\n",
       "      <td>51103_0_1</td>\n",
       "      <td>RUCornellMovieCorpusV1</td>\n",
       "    </tr>\n",
       "    <tr>\n",
       "      <th>110428</th>\n",
       "      <td>[Совет кардиналов! Я так нервничаю! Что, если ...</td>\n",
       "      <td></td>\n",
       "      <td>51103_0_2</td>\n",
       "      <td>RUCornellMovieCorpusV1</td>\n",
       "    </tr>\n",
       "    <tr>\n",
       "      <th>110429</th>\n",
       "      <td>[Прямо в ад. Шучу. Где этот автобус?, ]</td>\n",
       "      <td></td>\n",
       "      <td>51103_1_1</td>\n",
       "      <td>RUCornellMovieCorpusV1</td>\n",
       "    </tr>\n",
       "  </tbody>\n",
       "</table>\n",
       "<p>110430 rows × 4 columns</p>\n",
       "</div>"
      ],
      "text/plain": [
       "                                                  context knowledge  \\\n",
       "0       [Ты приглашаешь меня на свидание. Это так мило...             \n",
       "1       [Боже, если бы только мы могли найти Кэт парня...             \n",
       "2       [Как продвигается наш маленький план \"Найди де...             \n",
       "3                                       [Вот так., Куда?]             \n",
       "4       [У тебя что-то на уме?, Я рассчитывал, что вы ...             \n",
       "...                                                   ...       ...   \n",
       "110425  [Это контрабанда. Не спрашивай. Но я хотел теб...             \n",
       "110426  [Ты уходишь от нас?, О нет. Мы всегда будем вм...             \n",
       "110427  [Совет кардиналов! Я так нервничаю! Что, если ...             \n",
       "110428  [Совет кардиналов! Я так нервничаю! Что, если ...             \n",
       "110429            [Прямо в ад. Шучу. Где этот автобус?, ]             \n",
       "\n",
       "        sample_id          dataset_source  \n",
       "0           0_0_1  RUCornellMovieCorpusV1  \n",
       "1           1_0_1  RUCornellMovieCorpusV1  \n",
       "2           2_0_1  RUCornellMovieCorpusV1  \n",
       "3           3_0_1  RUCornellMovieCorpusV1  \n",
       "4           4_0_1  RUCornellMovieCorpusV1  \n",
       "...           ...                     ...  \n",
       "110425  51101_0_1  RUCornellMovieCorpusV1  \n",
       "110426  51102_0_1  RUCornellMovieCorpusV1  \n",
       "110427  51103_0_1  RUCornellMovieCorpusV1  \n",
       "110428  51103_0_2  RUCornellMovieCorpusV1  \n",
       "110429  51103_1_1  RUCornellMovieCorpusV1  \n",
       "\n",
       "[110430 rows x 4 columns]"
      ]
     },
     "execution_count": 3,
     "metadata": {},
     "output_type": "execute_result"
    }
   ],
   "source": [
    "dataset.to_pandas()"
   ]
  },
  {
   "attachments": {},
   "cell_type": "markdown",
   "metadata": {},
   "source": [
    "# Ru anekdots dialogs"
   ]
  },
  {
   "cell_type": "code",
   "execution_count": 10,
   "metadata": {},
   "outputs": [
    {
     "data": {
      "text/plain": [
       "{'context': ['Как водичка ?',\n",
       "  'А я здесь как женшина сижу, а не как термометр.'],\n",
       " 'knowledge': '',\n",
       " 'sample_id': '0_0_1',\n",
       " 'dataset_source': 'RUAnekdotsDialogsV1'}"
      ]
     },
     "execution_count": 10,
     "metadata": {},
     "output_type": "execute_result"
    }
   ],
   "source": [
    "from dimweb_persona_bot.dataloaders.ru_anekdots_dialogs_dataloaders import RUAnekdotsDialogsV1\n",
    "\n",
    "dataset = RUAnekdotsDialogsV1(\n",
    "    input_dataset_path='./datasets/ru_anekdots_dialogs/ru_anekdots_dialogs.txt'\n",
    ")\n",
    "\n",
    "dataset[0]"
   ]
  },
  {
   "cell_type": "code",
   "execution_count": 11,
   "metadata": {},
   "outputs": [
    {
     "data": {
      "text/plain": [
       "{'context': ['В стране куча хорошеньких девушек, которые не хотят замуж.',\n",
       "  'Откуда знаешь?'],\n",
       " 'knowledge': '',\n",
       " 'sample_id': '40_0_1',\n",
       " 'dataset_source': 'RUAnekdotsDialogsV1'}"
      ]
     },
     "execution_count": 11,
     "metadata": {},
     "output_type": "execute_result"
    }
   ],
   "source": [
    "dataset[101]"
   ]
  },
  {
   "cell_type": "code",
   "execution_count": 12,
   "metadata": {},
   "outputs": [
    {
     "data": {
      "text/html": [
       "<div>\n",
       "<style scoped>\n",
       "    .dataframe tbody tr th:only-of-type {\n",
       "        vertical-align: middle;\n",
       "    }\n",
       "\n",
       "    .dataframe tbody tr th {\n",
       "        vertical-align: top;\n",
       "    }\n",
       "\n",
       "    .dataframe thead th {\n",
       "        text-align: right;\n",
       "    }\n",
       "</style>\n",
       "<table border=\"1\" class=\"dataframe\">\n",
       "  <thead>\n",
       "    <tr style=\"text-align: right;\">\n",
       "      <th></th>\n",
       "      <th>context</th>\n",
       "      <th>knowledge</th>\n",
       "      <th>sample_id</th>\n",
       "      <th>dataset_source</th>\n",
       "    </tr>\n",
       "  </thead>\n",
       "  <tbody>\n",
       "    <tr>\n",
       "      <th>0</th>\n",
       "      <td>[Как водичка ?, А я здесь как женшина сижу, а ...</td>\n",
       "      <td></td>\n",
       "      <td>0_0_1</td>\n",
       "      <td>RUAnekdotsDialogsV1</td>\n",
       "    </tr>\n",
       "    <tr>\n",
       "      <th>1</th>\n",
       "      <td>[Я затрудняюсь поставить вам диагноз ... Навер...</td>\n",
       "      <td></td>\n",
       "      <td>1_0_1</td>\n",
       "      <td>RUAnekdotsDialogsV1</td>\n",
       "    </tr>\n",
       "    <tr>\n",
       "      <th>2</th>\n",
       "      <td>[Что такое дефицит в маркистском понимании?, Э...</td>\n",
       "      <td></td>\n",
       "      <td>2_0_1</td>\n",
       "      <td>RUAnekdotsDialogsV1</td>\n",
       "    </tr>\n",
       "    <tr>\n",
       "      <th>3</th>\n",
       "      <td>[Что такое дефицит в маркистском понимании?, Э...</td>\n",
       "      <td></td>\n",
       "      <td>2_0_2</td>\n",
       "      <td>RUAnekdotsDialogsV1</td>\n",
       "    </tr>\n",
       "    <tr>\n",
       "      <th>4</th>\n",
       "      <td>[Это объективная реальность, не данная нам в о...</td>\n",
       "      <td></td>\n",
       "      <td>2_1_1</td>\n",
       "      <td>RUAnekdotsDialogsV1</td>\n",
       "    </tr>\n",
       "    <tr>\n",
       "      <th>...</th>\n",
       "      <td>...</td>\n",
       "      <td>...</td>\n",
       "      <td>...</td>\n",
       "      <td>...</td>\n",
       "    </tr>\n",
       "    <tr>\n",
       "      <th>164769</th>\n",
       "      <td>[Алло, милиция?!, Да!, Быстрее приезжайте, мен...</td>\n",
       "      <td></td>\n",
       "      <td>87718_0_3</td>\n",
       "      <td>RUAnekdotsDialogsV1</td>\n",
       "    </tr>\n",
       "    <tr>\n",
       "      <th>164770</th>\n",
       "      <td>[Да!, Быстрее приезжайте, меня насилуют!]</td>\n",
       "      <td></td>\n",
       "      <td>87718_1_1</td>\n",
       "      <td>RUAnekdotsDialogsV1</td>\n",
       "    </tr>\n",
       "    <tr>\n",
       "      <th>164771</th>\n",
       "      <td>[Да!, Быстрее приезжайте, меня насилуют!, Куда...</td>\n",
       "      <td></td>\n",
       "      <td>87718_1_2</td>\n",
       "      <td>RUAnekdotsDialogsV1</td>\n",
       "    </tr>\n",
       "    <tr>\n",
       "      <th>164772</th>\n",
       "      <td>[Пап, я в пятницу на свадьбу иду, дай денег., ...</td>\n",
       "      <td></td>\n",
       "      <td>87719_0_1</td>\n",
       "      <td>RUAnekdotsDialogsV1</td>\n",
       "    </tr>\n",
       "    <tr>\n",
       "      <th>164773</th>\n",
       "      <td>[Пять тысяч хватит?, Ну ты чо?! Платье, фата...]</td>\n",
       "      <td></td>\n",
       "      <td>87719_1_1</td>\n",
       "      <td>RUAnekdotsDialogsV1</td>\n",
       "    </tr>\n",
       "  </tbody>\n",
       "</table>\n",
       "<p>164774 rows × 4 columns</p>\n",
       "</div>"
      ],
      "text/plain": [
       "                                                  context knowledge  \\\n",
       "0       [Как водичка ?, А я здесь как женшина сижу, а ...             \n",
       "1       [Я затрудняюсь поставить вам диагноз ... Навер...             \n",
       "2       [Что такое дефицит в маркистском понимании?, Э...             \n",
       "3       [Что такое дефицит в маркистском понимании?, Э...             \n",
       "4       [Это объективная реальность, не данная нам в о...             \n",
       "...                                                   ...       ...   \n",
       "164769  [Алло, милиция?!, Да!, Быстрее приезжайте, мен...             \n",
       "164770          [Да!, Быстрее приезжайте, меня насилуют!]             \n",
       "164771  [Да!, Быстрее приезжайте, меня насилуют!, Куда...             \n",
       "164772  [Пап, я в пятницу на свадьбу иду, дай денег., ...             \n",
       "164773   [Пять тысяч хватит?, Ну ты чо?! Платье, фата...]             \n",
       "\n",
       "        sample_id       dataset_source  \n",
       "0           0_0_1  RUAnekdotsDialogsV1  \n",
       "1           1_0_1  RUAnekdotsDialogsV1  \n",
       "2           2_0_1  RUAnekdotsDialogsV1  \n",
       "3           2_0_2  RUAnekdotsDialogsV1  \n",
       "4           2_1_1  RUAnekdotsDialogsV1  \n",
       "...           ...                  ...  \n",
       "164769  87718_0_3  RUAnekdotsDialogsV1  \n",
       "164770  87718_1_1  RUAnekdotsDialogsV1  \n",
       "164771  87718_1_2  RUAnekdotsDialogsV1  \n",
       "164772  87719_0_1  RUAnekdotsDialogsV1  \n",
       "164773  87719_1_1  RUAnekdotsDialogsV1  \n",
       "\n",
       "[164774 rows x 4 columns]"
      ]
     },
     "execution_count": 12,
     "metadata": {},
     "output_type": "execute_result"
    }
   ],
   "source": [
    "dataset.to_pandas()"
   ]
  },
  {
   "attachments": {},
   "cell_type": "markdown",
   "metadata": {},
   "source": [
    "# flibusta_dialogues"
   ]
  },
  {
   "cell_type": "code",
   "execution_count": 1,
   "metadata": {},
   "outputs": [
    {
     "data": {
      "text/plain": [
       "{'context': ['Почему тебя отпустили, а Кирилла нет?',\n",
       "  'Я сбежал, из горящей гостиницы.'],\n",
       " 'knowledge': '',\n",
       " 'sample_id': '0_0_1',\n",
       " 'dataset_source': 'RUFlibustaDialogsV1'}"
      ]
     },
     "execution_count": 1,
     "metadata": {},
     "output_type": "execute_result"
    }
   ],
   "source": [
    "from dimweb_persona_bot.dataloaders.ru_flibusta_dialogs_dataloaders import RUFlibustaDialogsV1\n",
    "\n",
    "dataset = RUFlibustaDialogsV1(\n",
    "    input_dataset_path='./datasets/flibusta_dialogues/flibusta_dialogues.txt'\n",
    ")\n",
    "\n",
    "dataset[0]"
   ]
  },
  {
   "cell_type": "code",
   "execution_count": 3,
   "metadata": {},
   "outputs": [
    {
     "data": {
      "text/plain": [
       "{'context': ['Пряталась у себя в норе, чтобы зализать раны',\n",
       "  'Я всегда говорил, что в тебе есть что то от лисы'],\n",
       " 'knowledge': '',\n",
       " 'sample_id': '74_1_1',\n",
       " 'dataset_source': 'RUFlibustaDialogsV1'}"
      ]
     },
     "execution_count": 3,
     "metadata": {},
     "output_type": "execute_result"
    }
   ],
   "source": [
    "dataset[100]"
   ]
  },
  {
   "cell_type": "code",
   "execution_count": 5,
   "metadata": {},
   "outputs": [
    {
     "data": {
      "text/plain": [
       "{'context': ['Я буду курировать вашу работу от конструкторов.',\n",
       "  'Мужиков у нас там больше нет, что ли?'],\n",
       " 'knowledge': '',\n",
       " 'sample_id': '153_0_1',\n",
       " 'dataset_source': 'RUFlibustaDialogsV1'}"
      ]
     },
     "execution_count": 5,
     "metadata": {},
     "output_type": "execute_result"
    }
   ],
   "source": [
    "dataset[200]"
   ]
  },
  {
   "attachments": {},
   "cell_type": "markdown",
   "metadata": {},
   "source": [
    "# RuBQ 2.0"
   ]
  },
  {
   "cell_type": "code",
   "execution_count": 32,
   "metadata": {},
   "outputs": [
    {
     "data": {
      "text/plain": [
       "{'uid': 0,\n",
       " 'ru_wiki_pageid': 58311,\n",
       " 'text': 'ЦСКА — советский и российский профессиональный хоккейный клуб из Москвы, выступающий в Континентальной хоккейной лиге. Основан в 1946 году под названием ЦДКА (Центральный дом Красной Армии). В 1951 году переименован в ЦДСА (Центральный дом Советской Армии), а в 1954 в ЦСК МО (Центральный спортивный клуб Министерства обороны), под которым выступал до 1959 года, и с тех пор носит название ЦСКА (Центральный Спортивный Клуб Армии).'}"
      ]
     },
     "execution_count": 32,
     "metadata": {},
     "output_type": "execute_result"
    }
   ],
   "source": [
    "# read json\n",
    "import json\n",
    "data_dev = open('./datasets/ru_bq20/RuBQ_2.0_dev.json', 'r',) \n",
    "data_dev = json.load(data_dev)\n",
    "\n",
    "data_test = open('./datasets/ru_bq20/RuBQ_2.0_test.json', 'r')\n",
    "data_test = json.load(data_test)\n",
    "\n",
    "data_paragraphs = open('./datasets/ru_bq20/RuBQ_2.0_paragraphs.json', 'r')\n",
    "data_paragraphs = json.load(data_paragraphs)\n",
    "data_paragraphs = {item['uid']: item for item in data_paragraphs}\n",
    "# data_dev[0]\n",
    "data_paragraphs[0]"
   ]
  },
  {
   "cell_type": "code",
   "execution_count": 22,
   "metadata": {},
   "outputs": [
    {
     "data": {
      "text/plain": [
       "dict_keys(['uid', 'ru_wiki_pageid', 'text'])"
      ]
     },
     "execution_count": 22,
     "metadata": {},
     "output_type": "execute_result"
    }
   ],
   "source": [
    "data_paragraphs[0].keys()"
   ]
  },
  {
   "cell_type": "code",
   "execution_count": 13,
   "metadata": {},
   "outputs": [
    {
     "data": {
      "text/plain": [
       "{'uid': 4,\n",
       " 'question_text': 'Какой стране принадлежит знаменитый остров Пасхи?',\n",
       " 'query': 'SELECT ?answer \\nWHERE {\\n  wd:Q14452 wdt:P17 ?answer\\n}',\n",
       " 'answer_text': 'Чили',\n",
       " 'question_uris': ['http://www.wikidata.org/entity/Q14452'],\n",
       " 'question_props': ['wdt:P17'],\n",
       " 'answers': [{'type': 'uri',\n",
       "   'label': 'Чили',\n",
       "   'value': 'http://www.wikidata.org/entity/Q298',\n",
       "   'wd_names': {'ru': ['Республика Чили', 'Чили'],\n",
       "    'en': ['Chile',\n",
       "     'República de Chile',\n",
       "     'Republic of Chile',\n",
       "     'cl',\n",
       "     'Republica de Chile',\n",
       "     'CHI',\n",
       "     '🇨🇱']},\n",
       "   'wp_names': ['Чилийская']}],\n",
       " 'paragraphs_uids': {'with_answer': [10785, 10782, 10783],\n",
       "  'all_related': [10782,\n",
       "   10783,\n",
       "   10784,\n",
       "   10785,\n",
       "   10786,\n",
       "   53027,\n",
       "   53028,\n",
       "   53029,\n",
       "   53030,\n",
       "   53031,\n",
       "   53032,\n",
       "   53033,\n",
       "   53034,\n",
       "   53035,\n",
       "   53036,\n",
       "   35776,\n",
       "   35777,\n",
       "   35778,\n",
       "   35779,\n",
       "   35780,\n",
       "   51707,\n",
       "   51708,\n",
       "   51709,\n",
       "   51710,\n",
       "   51711]},\n",
       " 'tags': ['1-hop'],\n",
       " 'RuBQ_version': '1.0',\n",
       " 'question_eng': 'Which country does the famous Easter island belong to?'}"
      ]
     },
     "execution_count": 13,
     "metadata": {},
     "output_type": "execute_result"
    }
   ],
   "source": [
    "data_dev[0]"
   ]
  },
  {
   "cell_type": "code",
   "execution_count": 12,
   "metadata": {},
   "outputs": [
    {
     "data": {
      "text/plain": [
       "{'uid': 0,\n",
       " 'question_text': 'Что может вызвать цунами?',\n",
       " 'query': 'SELECT ?answer \\nWHERE {\\n  wd:Q8070 wdt:P828 ?answer\\n}',\n",
       " 'answer_text': 'Землетрясение',\n",
       " 'question_uris': ['http://www.wikidata.org/entity/Q8070'],\n",
       " 'question_props': ['wdt:P828'],\n",
       " 'answers': [{'type': 'uri',\n",
       "   'label': 'землетрясение',\n",
       "   'value': 'http://www.wikidata.org/entity/Q7944',\n",
       "   'wd_names': {'ru': ['землетрясение', 'җир тетрәве'],\n",
       "    'en': ['seism',\n",
       "     'earthquake',\n",
       "     'seismic activity',\n",
       "     'fore shocks',\n",
       "     'tremor',\n",
       "     'earthquakes',\n",
       "     'earth quake',\n",
       "     'earthtemblor',\n",
       "     'foreshock',\n",
       "     'aftershock',\n",
       "     'quake',\n",
       "     'temblor',\n",
       "     'earth temblor',\n",
       "     'foreshocks',\n",
       "     'after shocks',\n",
       "     'earth quakes',\n",
       "     'after shock',\n",
       "     'earthtremor',\n",
       "     'convulsion',\n",
       "     'earth tremor',\n",
       "     'shock',\n",
       "     'fore shock',\n",
       "     'aftershocks']},\n",
       "   'wp_names': ['землетрясениям']},\n",
       "  {'type': 'uri',\n",
       "   'label': 'метеорит',\n",
       "   'value': 'http://www.wikidata.org/entity/Q60186',\n",
       "   'wd_names': {'ru': ['метеорит', 'Метеориты', 'Аэролиты'],\n",
       "    'en': ['shooting star', 'meteorite']},\n",
       "   'wp_names': []},\n",
       "  {'type': 'uri',\n",
       "   'label': 'оползень',\n",
       "   'value': 'http://www.wikidata.org/entity/Q167903',\n",
       "   'wd_names': {'ru': ['оползень', 'оползни'],\n",
       "    'en': ['Rock avalanche', 'landslide', 'landslip']},\n",
       "   'wp_names': ['оползни', 'оползнями']},\n",
       "  {'type': 'uri',\n",
       "   'label': 'Проект Seal',\n",
       "   'value': 'http://www.wikidata.org/entity/Q2580904',\n",
       "   'wd_names': {'ru': ['Проект Seal'], 'en': ['tsunami bomb']},\n",
       "   'wp_names': []},\n",
       "  {'type': 'uri',\n",
       "   'label': 'подводный оползень',\n",
       "   'value': 'http://www.wikidata.org/entity/Q5975740',\n",
       "   'wd_names': {'ru': [],\n",
       "    'en': ['undersea landslide',\n",
       "     'submarine landslide',\n",
       "     'underwater landslide']},\n",
       "   'wp_names': []},\n",
       "  {'type': 'uri',\n",
       "   'label': 'извержение вулкана',\n",
       "   'value': 'http://www.wikidata.org/entity/Q7692360',\n",
       "   'wd_names': {'ru': ['Фреатическое извержение',\n",
       "     'Вулканические извержения',\n",
       "     'Стромболианское извержение',\n",
       "     'извержение вулкана',\n",
       "     'Гавайское извержение',\n",
       "     'Газовое извержение',\n",
       "     'Вулканическое извержение',\n",
       "     'Пелейское извержение'],\n",
       "    'en': ['volcano eruption', 'volcanic eruption', 'eruption']},\n",
       "   'wp_names': ['извержения вулкана']}],\n",
       " 'paragraphs_uids': {'with_answer': [35622],\n",
       "  'all_related': [35622,\n",
       "   35623,\n",
       "   35624,\n",
       "   35625,\n",
       "   35626,\n",
       "   35632,\n",
       "   35633,\n",
       "   35634,\n",
       "   35635,\n",
       "   35636,\n",
       "   35637,\n",
       "   35638,\n",
       "   35639,\n",
       "   35640,\n",
       "   35641,\n",
       "   35642,\n",
       "   35643,\n",
       "   35644,\n",
       "   35645,\n",
       "   35646,\n",
       "   35647,\n",
       "   35648,\n",
       "   35649,\n",
       "   35650,\n",
       "   35651]},\n",
       " 'tags': ['1-hop'],\n",
       " 'RuBQ_version': '1.0',\n",
       " 'question_eng': 'What can cause a tsunami?'}"
      ]
     },
     "execution_count": 12,
     "metadata": {},
     "output_type": "execute_result"
    }
   ],
   "source": [
    "data_test[0]"
   ]
  },
  {
   "cell_type": "code",
   "execution_count": 24,
   "metadata": {},
   "outputs": [
    {
     "data": {
      "text/plain": [
       "dict_keys(['uid', 'question_text', 'query', 'answer_text', 'question_uris', 'question_props', 'answers', 'paragraphs_uids', 'tags', 'RuBQ_version', 'question_eng'])"
      ]
     },
     "execution_count": 24,
     "metadata": {},
     "output_type": "execute_result"
    }
   ],
   "source": [
    "sample = data_dev[10]\n",
    "sample.keys()"
   ]
  },
  {
   "cell_type": "code",
   "execution_count": 25,
   "metadata": {},
   "outputs": [
    {
     "data": {
      "text/plain": [
       "('Как называлась столица Крымского ханства?',\n",
       " 'Бахчисарай',\n",
       " 'При образовании в Крыму независимого от Орды государства столица была перенесена в укреплённую горную крепость Кырк-Ер, затем в расположенный в долине у подножия Кырк-Ера Салачик и, наконец, в 1532 году во вновь построенный город Бахчисарай.')"
      ]
     },
     "execution_count": 25,
     "metadata": {},
     "output_type": "execute_result"
    }
   ],
   "source": [
    "info_paragraph_id = sample['paragraphs_uids']['with_answer'][0]\n",
    "info_paragraph = data_paragraphs[info_paragraph_id]['text']\n",
    "\n",
    "sample['question_text'], sample['answer_text'], info_paragraph"
   ]
  },
  {
   "cell_type": "code",
   "execution_count": 33,
   "metadata": {},
   "outputs": [],
   "source": [
    "alldata = {}\n",
    "alldata['questions'] = data_dev + data_test\n",
    "alldata['paragraphs'] = data_paragraphs\n",
    "\n",
    "# save json\n",
    "with open('./datasets/ru_bq20/RuBQ_2.0_all.json', 'w', encoding='utf-8') as outfile:\n",
    "\tjson.dump(alldata, outfile)"
   ]
  },
  {
   "cell_type": "code",
   "execution_count": 34,
   "metadata": {},
   "outputs": [
    {
     "data": {
      "text/plain": [
       "{'uid': 4,\n",
       " 'question_text': 'Какой стране принадлежит знаменитый остров Пасхи?',\n",
       " 'query': 'SELECT ?answer \\nWHERE {\\n  wd:Q14452 wdt:P17 ?answer\\n}',\n",
       " 'answer_text': 'Чили',\n",
       " 'question_uris': ['http://www.wikidata.org/entity/Q14452'],\n",
       " 'question_props': ['wdt:P17'],\n",
       " 'answers': [{'type': 'uri',\n",
       "   'label': 'Чили',\n",
       "   'value': 'http://www.wikidata.org/entity/Q298',\n",
       "   'wd_names': {'ru': ['Республика Чили', 'Чили'],\n",
       "    'en': ['Chile',\n",
       "     'República de Chile',\n",
       "     'Republic of Chile',\n",
       "     'cl',\n",
       "     'Republica de Chile',\n",
       "     'CHI',\n",
       "     '🇨🇱']},\n",
       "   'wp_names': ['Чилийская']}],\n",
       " 'paragraphs_uids': {'with_answer': [10785, 10782, 10783],\n",
       "  'all_related': [10782,\n",
       "   10783,\n",
       "   10784,\n",
       "   10785,\n",
       "   10786,\n",
       "   53027,\n",
       "   53028,\n",
       "   53029,\n",
       "   53030,\n",
       "   53031,\n",
       "   53032,\n",
       "   53033,\n",
       "   53034,\n",
       "   53035,\n",
       "   53036,\n",
       "   35776,\n",
       "   35777,\n",
       "   35778,\n",
       "   35779,\n",
       "   35780,\n",
       "   51707,\n",
       "   51708,\n",
       "   51709,\n",
       "   51710,\n",
       "   51711]},\n",
       " 'tags': ['1-hop'],\n",
       " 'RuBQ_version': '1.0',\n",
       " 'question_eng': 'Which country does the famous Easter island belong to?'}"
      ]
     },
     "execution_count": 34,
     "metadata": {},
     "output_type": "execute_result"
    }
   ],
   "source": [
    "json.loads(json.dumps(alldata))['questions'][0]"
   ]
  },
  {
   "cell_type": "code",
   "execution_count": 51,
   "metadata": {},
   "outputs": [
    {
     "data": {
      "text/plain": [
       "{'context': ['Какой стране принадлежит знаменитый остров Пасхи?'],\n",
       " 'knowledge': ['остров Пасхи (нидерл. Paasch-Eyland; исп. Isla de Pascua), названный так голландским мореплавателем Якобом Роггевеном, потому что он открыл его в день Пасхи 1722 года.Очень часто остров Пасхи называют Рапануи (в переводе — «Большой Рапа»). Такое название остров получил благодаря таитянским мореплавателям, использовавшим его, чтобы различать остров Пасхи и остров Рапа-Ити (в переводе — «Малый Рапа»), лежащий в 650 км к югу от Таити, и имеющий топологическое сходство с ним. В августе 2018 года власти страны, согласно Указу президента Чили, ускорили процесс рассмотрения законопроекта о переименовании Острова Пасхи в Рапа-Нуи.'],\n",
       " 'sample_id': '0',\n",
       " 'label': 'Чили',\n",
       " 'dataset_source': 'RURubq20V1'}"
      ]
     },
     "execution_count": 51,
     "metadata": {},
     "output_type": "execute_result"
    }
   ],
   "source": [
    "from dimweb_persona_bot.dataloaders.ru_rubq20_dataloaders import RURubq20V1\n",
    "\n",
    "\n",
    "dataset = RURubq20V1(\n",
    "    input_dataset_path='./datasets/ru_bq20/RuBQ_2.0_all.json'\n",
    ")\n",
    "\n",
    "dataset[0]"
   ]
  },
  {
   "cell_type": "code",
   "execution_count": 52,
   "metadata": {},
   "outputs": [
    {
     "data": {
      "text/plain": [
       "{'context': ['При каком российском монархе возник Государственный Музей Эрмитаж?'],\n",
       " 'knowledge': ['Свою историю музей начинал с коллекции произведений искусства, приобретённых в частном порядке российской императрицей Екатериной II. Первоначально это собрание размещалось в специальном дворцовом флигеле — Эрмитаже (от фр. ermitage — место уединения, келья, приют отшельника, затворничество; ныне Малый Эрмитаж) — откуда и закрепилось общее название будущего музея. В 1852 году из сильно разросшейся коллекции был сформирован и открыт для посещения публичный музей, расположившийся в специально для этого построенном здании Нового Эрмитажа.'],\n",
       " 'sample_id': '100',\n",
       " 'label': 'Екатерина II',\n",
       " 'dataset_source': 'RURubq20V1'}"
      ]
     },
     "execution_count": 52,
     "metadata": {},
     "output_type": "execute_result"
    }
   ],
   "source": [
    "dataset[100]"
   ]
  }
 ],
 "metadata": {
  "kernelspec": {
   "display_name": "env",
   "language": "python",
   "name": "python3"
  },
  "language_info": {
   "codemirror_mode": {
    "name": "ipython",
    "version": 3
   },
   "file_extension": ".py",
   "mimetype": "text/x-python",
   "name": "python",
   "nbconvert_exporter": "python",
   "pygments_lexer": "ipython3",
   "version": "3.8.10 (default, Jun 22 2022, 20:18:18) \n[GCC 9.4.0]"
  },
  "orig_nbformat": 4,
  "vscode": {
   "interpreter": {
    "hash": "afbd04eaf482342bd8c806741887bf29b8900f429828e19eaba1f287fa9febed"
   }
  }
 },
 "nbformat": 4,
 "nbformat_minor": 2
}
