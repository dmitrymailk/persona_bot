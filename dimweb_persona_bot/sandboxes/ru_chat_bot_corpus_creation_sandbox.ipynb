{
 "cells": [
  {
   "attachments": {},
   "cell_type": "markdown",
   "metadata": {},
   "source": [
    "# cornell_movie_corpus"
   ]
  },
  {
   "cell_type": "code",
   "execution_count": 1,
   "metadata": {},
   "outputs": [],
   "source": [
    "dataset_path = \"./datasets/cornell_movie_corpus/cornell_movie_corpus.txt\"\n",
    "part_dataset = \"./datasets/cornell_movie_corpus/cornell_movie_corpus_part.txt\"\n",
    "dataset_size = 10000\n",
    "with open(dataset_path, 'r') as original_dataset:\n",
    "    with open(part_dataset, 'w') as temp_dataset:\n",
    "        part_dataset_str = \"\".join([next(original_dataset) for _ in range(dataset_size)])\n",
    "        temp_dataset.write(part_dataset_str)"
   ]
  },
  {
   "cell_type": "code",
   "execution_count": 6,
   "metadata": {},
   "outputs": [
    {
     "name": "stdout",
     "output_type": "stream",
     "text": [
      "Label: 'Привет, норм а у тебя?' | Input data: ['Привет, как дела?']\n",
      "Label: 'Сижу смотрю мемы вк' | Input data: ['Привет, как дела?', 'Привет, норм а у тебя?']\n",
      "Label: 'Видел новый мем с собакой-кусакой?' | Input data: ['Привет, как дела?', 'Привет, норм а у тебя?', 'Сижу смотрю мемы вк']\n",
      "Label: 'Нет, покажи' | Input data: ['Привет, как дела?', 'Привет, норм а у тебя?', 'Сижу смотрю мемы вк', 'Видел новый мем с собакой-кусакой?']\n"
     ]
    }
   ],
   "source": [
    "test_data = [\n",
    " \"Привет, как дела?\",\n",
    " \"Привет, норм а у тебя?\",\n",
    " \"Сижу смотрю мемы вк\",\n",
    " \"Видел новый мем с собакой-кусакой?\",\n",
    " \"Нет, покажи\"\n",
    "]\n",
    "for i in range(1, len(test_data), 1):\n",
    "    input_data = test_data[:i]\n",
    "    labels = test_data[i]\n",
    "    print(f\"Label: '{labels}' | Input data: {input_data}\") "
   ]
  }
 ],
 "metadata": {
  "kernelspec": {
   "display_name": "env",
   "language": "python",
   "name": "python3"
  },
  "language_info": {
   "codemirror_mode": {
    "name": "ipython",
    "version": 3
   },
   "file_extension": ".py",
   "mimetype": "text/x-python",
   "name": "python",
   "nbconvert_exporter": "python",
   "pygments_lexer": "ipython3",
   "version": "3.8.10"
  },
  "orig_nbformat": 4,
  "vscode": {
   "interpreter": {
    "hash": "afbd04eaf482342bd8c806741887bf29b8900f429828e19eaba1f287fa9febed"
   }
  }
 },
 "nbformat": 4,
 "nbformat_minor": 2
}
