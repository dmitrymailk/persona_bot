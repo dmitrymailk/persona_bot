{
 "cells": [
  {
   "cell_type": "markdown",
   "metadata": {},
   "source": [
    "### explore data"
   ]
  },
  {
   "cell_type": "code",
   "execution_count": 7,
   "metadata": {},
   "outputs": [
    {
     "name": "stdout",
     "output_type": "stream",
     "text": [
      "dict_keys(['train', 'valid'])\n",
      "train 17878\n",
      "dict_keys(['personality', 'utterances'])\n",
      "valid 1000\n",
      "dict_keys(['personality', 'utterances'])\n"
     ]
    }
   ],
   "source": [
    "import json\n",
    "\n",
    "# read the json file \n",
    "with open('./datasets/persona_chat.json') as f:\n",
    "    data = json.load(f)\n",
    "    print(data.keys())\n",
    "    for key in data.keys():\n",
    "        print(key, len(data[key]))\n",
    "        print(data[key][0].keys())"
   ]
  },
  {
   "cell_type": "code",
   "execution_count": 17,
   "metadata": {},
   "outputs": [
    {
     "data": {
      "text/plain": [
       "['i watch basketball .',\n",
       " 'i go to a local college .',\n",
       " 'i work at a smoothie shop .',\n",
       " 'i listen to classic rock .']"
      ]
     },
     "execution_count": 17,
     "metadata": {},
     "output_type": "execute_result"
    }
   ],
   "source": [
    "data['train'][12]['personality']"
   ]
  },
  {
   "cell_type": "code",
   "execution_count": 1,
   "metadata": {},
   "outputs": [
    {
     "name": "stdout",
     "output_type": "stream",
     "text": [
      "Dataset lengths: train 17878, valid 500, test 500\n",
      "Datasets saved.\n"
     ]
    }
   ],
   "source": [
    "from dimweb_persona_bot.datasets_transformers.persona_chat_dataset_transformer import persona_chat_dataset_tranformer_v1\n",
    "\n",
    "persona_chat_dataset_tranformer_v1(\n",
    "    initial_dataset_path=\"./datasets/persona_chat/persona_chat.json\",\n",
    "    output_folder=\"./datasets/persona_chat\",\n",
    ")"
   ]
  },
  {
   "cell_type": "code",
   "execution_count": 27,
   "metadata": {},
   "outputs": [
    {
     "data": {
      "text/plain": [
       "['hey how are you today ?',\n",
       " 'great ! just go off work at the smoothie shop . you ?',\n",
       " 'i have been eating tacos and getting ready to move to school .',\n",
       " 'are you going to college ? i go to a local one .',\n",
       " 'yes , i am going to university of michigan . what year are you ?',\n",
       " 'first yr ! do you have any hobbies ?',\n",
       " 'i love doing anything outdoors . especially in summer . you ?',\n",
       " 'i love watching college basketball and rocking out to classic rock .',\n",
       " 'fun . have you decided on your major for school ?',\n",
       " 'not yet . have you decided ?',\n",
       " \"pre med . i'd love to be a doctor\"]"
      ]
     },
     "execution_count": 27,
     "metadata": {},
     "output_type": "execute_result"
    }
   ],
   "source": [
    "# четный ответ в history содержит персону\n",
    "data['train'][12]['utterances'][-1]['history']"
   ]
  },
  {
   "cell_type": "markdown",
   "metadata": {},
   "source": [
    "### default dataset"
   ]
  },
  {
   "cell_type": "code",
   "execution_count": 32,
   "metadata": {},
   "outputs": [
    {
     "data": {
      "text/plain": [
       "{'persona': ['my mom is my best friend .',\n",
       "  'i have four sisters .',\n",
       "  'i believe that mermaids are real .',\n",
       "  'i love iced tea .'],\n",
       " 'history': ['hi , how are you doing today ?',\n",
       "  'i am spending time with my 4 sisters what are you up to',\n",
       "  'wow , four sisters . just watching game of thrones .',\n",
       "  'that is a good show i watch that while drinking iced tea',\n",
       "  'i agree . what do you do for a living ?',\n",
       "  \"i'm a researcher i'm researching the fact that mermaids are real\",\n",
       "  \"interesting . i'm a website designer . pretty much spend all my time on the computer .\",\n",
       "  \"that's cool my mom does the same thing\",\n",
       "  \"that's awesome . i have always had a love for technology .\",\n",
       "  'tell me more about yourself',\n",
       "  'i really enjoy free diving , how about you , have any hobbies ?']}"
      ]
     },
     "execution_count": 32,
     "metadata": {},
     "output_type": "execute_result"
    }
   ],
   "source": [
    "from dimweb_persona_bot.dataloaders.persona_chat_dataloaders import PersonaChatDatasetV1\n",
    "dataset = PersonaChatDatasetV1(\n",
    "    input_dataset_path=\"./datasets/persona_chat/train.json\",\n",
    ")\n",
    "dataset[12]"
   ]
  },
  {
   "cell_type": "markdown",
   "metadata": {},
   "source": [
    "### Causal datasets"
   ]
  },
  {
   "cell_type": "code",
   "execution_count": 4,
   "metadata": {},
   "outputs": [
    {
     "data": {
      "text/plain": [
       "{'input_ids': tensor([[50256, 15332,   287,  ...,  -100,  -100,  -100],\n",
       "         [50256,  1820,  4004,  ...,  -100,  -100,  -100],\n",
       "         [50256,    72,   588,  ...,  -100,  -100,  -100],\n",
       "         ...,\n",
       "         [50256,    72,  1842,  ...,  -100,  -100,  -100],\n",
       "         [50256,    72,  1842,  ...,  -100,  -100,  -100],\n",
       "         [50256,    72,   588,  ...,  -100,  -100,  -100]]),\n",
       " 'labels': tensor([[50256, 15332,   287,  ...,  -100,  -100,  -100],\n",
       "         [50256,  1820,  4004,  ...,  -100,  -100,  -100],\n",
       "         [50256,    72,   588,  ...,  -100,  -100,  -100],\n",
       "         ...,\n",
       "         [50256,    72,  1842,  ...,  -100,  -100,  -100],\n",
       "         [50256,    72,  1842,  ...,  -100,  -100,  -100],\n",
       "         [50256,    72,   588,  ...,  -100,  -100,  -100]]),\n",
       " 'attention_mask': tensor([[1, 1, 1,  ..., 0, 0, 0],\n",
       "         [1, 1, 1,  ..., 0, 0, 0],\n",
       "         [1, 1, 1,  ..., 0, 0, 0],\n",
       "         ...,\n",
       "         [1, 1, 1,  ..., 0, 0, 0],\n",
       "         [1, 1, 1,  ..., 0, 0, 0],\n",
       "         [1, 1, 1,  ..., 0, 0, 0]])}"
      ]
     },
     "execution_count": 4,
     "metadata": {},
     "output_type": "execute_result"
    }
   ],
   "source": [
    "from dimweb_persona_bot.dataloaders.persona_chat_dataloaders import PersonaChatDatasetV1\n",
    "from dimweb_persona_bot.dataloaders.causal_samplers import CausalTrainPersonaSampleV1, CausalValidPersonaSampleV1\n",
    "from dimweb_persona_bot.dataloaders.lighting import LightningDataModuleV1\n",
    "from dimweb_persona_bot.hyperparameters.causal_modeling_hyperparameters import (\n",
    "    PersonaChatHyperparametersV1,\n",
    ")\n",
    "\n",
    "from transformers import AutoTokenizer\n",
    "\n",
    "hyperparameters = PersonaChatHyperparametersV1()\n",
    "tokenizer = AutoTokenizer.from_pretrained(hyperparameters.model_name)\n",
    "\n",
    "lighting_data = LightningDataModuleV1(\n",
    "\ttrain_path_dataset=\"./datasets/persona_chat/train.json\",\n",
    "\tvalid_path_dataset=\"./datasets/persona_chat/valid.json\",\n",
    "\thyperparameters=hyperparameters,\n",
    "\ttokenizer=tokenizer,\n",
    "\tbase_train_dataset_class=PersonaChatDatasetV1,\n",
    "\tbase_valid_dataset_class=PersonaChatDatasetV1,\n",
    "\tbase_train_sample_class=CausalTrainPersonaSampleV1,\n",
    "\tbase_valid_sample_class=CausalValidPersonaSampleV1,\n",
    ")\n",
    "lighting_data.setup()\n",
    "next(iter(lighting_data.train_dataloader()))"
   ]
  },
  {
   "cell_type": "code",
   "execution_count": 2,
   "metadata": {},
   "outputs": [],
   "source": [
    "from dimweb_persona_bot.dataloaders.persona_chat_dataloaders import PersonaChatDatasetV1\n",
    "\n",
    "\n",
    "train_dataset = PersonaChatDatasetV1(\n",
    "    input_dataset_path=\"./datasets/persona_chat/train.json\",\n",
    ")"
   ]
  },
  {
   "cell_type": "code",
   "execution_count": 6,
   "metadata": {},
   "outputs": [
    {
     "data": {
      "text/plain": [
       "{'persona': ['i like to snowboard .',\n",
       "  'my favorite food is popcorn .',\n",
       "  'i like to ride horses .',\n",
       "  'i live in rural wisconsin .'],\n",
       " 'history': ['i am frank . nice to meet you . what is your name ?',\n",
       "  'my name is gary . great to meet you too .',\n",
       "  'i work as a general manager at a grocery store . what about you ?',\n",
       "  \"i'm an insurance salesman\"],\n",
       " 'sample_id': '15_2'}"
      ]
     },
     "execution_count": 6,
     "metadata": {},
     "output_type": "execute_result"
    }
   ],
   "source": [
    "train_dataset[96]"
   ]
  },
  {
   "cell_type": "code",
   "execution_count": 7,
   "metadata": {},
   "outputs": [],
   "source": [
    "valid_dataset = PersonaChatDatasetV1(\n",
    "    input_dataset_path=\"./datasets/persona_chat/valid.json\",\n",
    ")"
   ]
  },
  {
   "cell_type": "code",
   "execution_count": 8,
   "metadata": {},
   "outputs": [
    {
     "data": {
      "text/plain": [
       "{'persona': ['i read twenty books a year .',\n",
       "  \"i'm a stunt double as my second job .\",\n",
       "  'i only eat kosher .',\n",
       "  'i was raised in a single parent household .'],\n",
       " 'history': ['hello what are doing today ?',\n",
       "  'i am good , i just got off work and tired , i have two jobs .'],\n",
       " 'sample_id': '0_1'}"
      ]
     },
     "execution_count": 8,
     "metadata": {},
     "output_type": "execute_result"
    }
   ],
   "source": [
    "valid_dataset[0]"
   ]
  },
  {
   "cell_type": "code",
   "execution_count": 12,
   "metadata": {},
   "outputs": [
    {
     "data": {
      "text/plain": [
       "['hello what are doing today ?',\n",
       " 'i am good , i just got off work and tired , i have two jobs .',\n",
       " 'i just got done watching a horror movie',\n",
       " \"i rather read , i've read about 20 books this year .\",\n",
       " 'wow ! i do love a good horror movie . loving this cooler weather',\n",
       " 'but a good movie is always good .']"
      ]
     },
     "execution_count": 12,
     "metadata": {},
     "output_type": "execute_result"
    }
   ],
   "source": [
    "valid_dataset[2]['history']"
   ]
  },
  {
   "cell_type": "code",
   "execution_count": 17,
   "metadata": {},
   "outputs": [
    {
     "data": {
      "text/plain": [
       "['wow ! i do love a good horror movie . loving this cooler weather',\n",
       " 'but a good movie is always good .']"
      ]
     },
     "execution_count": 17,
     "metadata": {},
     "output_type": "execute_result"
    }
   ],
   "source": [
    "valid_dataset[2]['history'][-2:]"
   ]
  },
  {
   "cell_type": "markdown",
   "metadata": {},
   "source": [
    "## ru persona chat"
   ]
  },
  {
   "cell_type": "code",
   "execution_count": 4,
   "metadata": {},
   "outputs": [
    {
     "data": {
      "text/html": [
       "<div>\n",
       "<style scoped>\n",
       "    .dataframe tbody tr th:only-of-type {\n",
       "        vertical-align: middle;\n",
       "    }\n",
       "\n",
       "    .dataframe tbody tr th {\n",
       "        vertical-align: top;\n",
       "    }\n",
       "\n",
       "    .dataframe thead th {\n",
       "        text-align: right;\n",
       "    }\n",
       "</style>\n",
       "<table border=\"1\" class=\"dataframe\">\n",
       "  <thead>\n",
       "    <tr style=\"text-align: right;\">\n",
       "      <th></th>\n",
       "      <th>characteristic_1</th>\n",
       "      <th>characteristic_2</th>\n",
       "      <th>characteristic_3</th>\n",
       "      <th>characteristic_4</th>\n",
       "      <th>characteristic_5</th>\n",
       "    </tr>\n",
       "  </thead>\n",
       "  <tbody>\n",
       "    <tr>\n",
       "      <th>У меня любимая работа.</th>\n",
       "      <td>Я уважаю людей.</td>\n",
       "      <td>У меня есть животное.</td>\n",
       "      <td>У меня хороший друг.</td>\n",
       "      <td>Я люблю кофе.</td>\n",
       "      <td>NaN</td>\n",
       "    </tr>\n",
       "    <tr>\n",
       "      <th>Я работаю учителем</th>\n",
       "      <td>У меня есть собака</td>\n",
       "      <td>Я люблю петь</td>\n",
       "      <td>Я живу сама</td>\n",
       "      <td>Я люблю цветы</td>\n",
       "      <td>NaN</td>\n",
       "    </tr>\n",
       "    <tr>\n",
       "      <th>Я купила дом</th>\n",
       "      <td>Я бегаю по утрам</td>\n",
       "      <td>Я работаю на работе</td>\n",
       "      <td>Я поеду в отпуск</td>\n",
       "      <td>Я люблю арбуз</td>\n",
       "      <td>NaN</td>\n",
       "    </tr>\n",
       "    <tr>\n",
       "      <th>я врач и женат</th>\n",
       "      <td>у меня трое детей</td>\n",
       "      <td>не люблю свою работу</td>\n",
       "      <td>нравиться ездить на велосипеде</td>\n",
       "      <td>люблю пиво</td>\n",
       "      <td>NaN</td>\n",
       "    </tr>\n",
       "    <tr>\n",
       "      <th>Я школьница.</th>\n",
       "      <td>Я ещё учусь.</td>\n",
       "      <td>Но я мечтаю работать.</td>\n",
       "      <td>Я обожаю родителей.</td>\n",
       "      <td>И не люблю учиться.</td>\n",
       "      <td>NaN</td>\n",
       "    </tr>\n",
       "  </tbody>\n",
       "</table>\n",
       "</div>"
      ],
      "text/plain": [
       "                          characteristic_1       characteristic_2  \\\n",
       "У меня любимая работа.     Я уважаю людей.  У меня есть животное.   \n",
       "Я работаю учителем      У меня есть собака           Я люблю петь   \n",
       "Я купила дом              Я бегаю по утрам    Я работаю на работе   \n",
       "я врач и женат           у меня трое детей   не люблю свою работу   \n",
       "Я школьница.                  Я ещё учусь.  Но я мечтаю работать.   \n",
       "\n",
       "                                      characteristic_3     characteristic_4  \\\n",
       "У меня любимая работа.            У меня хороший друг.        Я люблю кофе.   \n",
       "Я работаю учителем                         Я живу сама        Я люблю цветы   \n",
       "Я купила дом                          Я поеду в отпуск        Я люблю арбуз   \n",
       "я врач и женат          нравиться ездить на велосипеде           люблю пиво   \n",
       "Я школьница.                       Я обожаю родителей.  И не люблю учиться.   \n",
       "\n",
       "                        characteristic_5  \n",
       "У меня любимая работа.               NaN  \n",
       "Я работаю учителем                   NaN  \n",
       "Я купила дом                         NaN  \n",
       "я врач и женат                       NaN  \n",
       "Я школьница.                         NaN  "
      ]
     },
     "execution_count": 4,
     "metadata": {},
     "output_type": "execute_result"
    }
   ],
   "source": [
    "import pandas as pd\n",
    "\n",
    "dataset = pd.read_csv(\"./datasets/ru_persona_chat/profiles.tsv\", delimiter=\"\\t\")\n",
    "dataset.head()"
   ]
  },
  {
   "cell_type": "code",
   "execution_count": 5,
   "metadata": {},
   "outputs": [
    {
     "data": {
      "text/html": [
       "<div>\n",
       "<style scoped>\n",
       "    .dataframe tbody tr th:only-of-type {\n",
       "        vertical-align: middle;\n",
       "    }\n",
       "\n",
       "    .dataframe tbody tr th {\n",
       "        vertical-align: top;\n",
       "    }\n",
       "\n",
       "    .dataframe thead th {\n",
       "        text-align: right;\n",
       "    }\n",
       "</style>\n",
       "<table border=\"1\" class=\"dataframe\">\n",
       "  <thead>\n",
       "    <tr style=\"text-align: right;\">\n",
       "      <th></th>\n",
       "      <th>persona_1_profile</th>\n",
       "      <th>persona_2_profile</th>\n",
       "      <th>dialogue</th>\n",
       "    </tr>\n",
       "  </thead>\n",
       "  <tbody>\n",
       "    <tr>\n",
       "      <th>0</th>\n",
       "      <td>&lt;span class=participant_1&gt;У меня любимая работ...</td>\n",
       "      <td>&lt;span class=participant_2&gt;Ищу принца.&lt;br /&gt;Вед...</td>\n",
       "      <td>&lt;span class=participant_2&gt;Пользователь 2: Прив...</td>\n",
       "    </tr>\n",
       "    <tr>\n",
       "      <th>1</th>\n",
       "      <td>&lt;span class=participant_1&gt;Я работаю учителем&lt;b...</td>\n",
       "      <td>&lt;span class=participant_2&gt;Я бизнесмен&lt;br /&gt;У м...</td>\n",
       "      <td>&lt;span class=participant_1&gt;Пользователь 1: Прив...</td>\n",
       "    </tr>\n",
       "    <tr>\n",
       "      <th>2</th>\n",
       "      <td>&lt;span class=participant_1&gt;Я купила дом&lt;br /&gt;Я ...</td>\n",
       "      <td>&lt;span class=participant_2&gt;Я пою в караоке&lt;br /...</td>\n",
       "      <td>&lt;span class=participant_1&gt;Пользователь 1: Прив...</td>\n",
       "    </tr>\n",
       "    <tr>\n",
       "      <th>3</th>\n",
       "      <td>&lt;span class=participant_1&gt;я врач и женат&lt;br /&gt;...</td>\n",
       "      <td>&lt;span class=participant_2&gt;Я мальчик&lt;br /&gt;Я учу...</td>\n",
       "      <td>&lt;span class=participant_2&gt;Пользователь 2: Здра...</td>\n",
       "    </tr>\n",
       "    <tr>\n",
       "      <th>4</th>\n",
       "      <td>&lt;span class=participant_1&gt;Я школьница.&lt;br /&gt;Я ...</td>\n",
       "      <td>&lt;span class=participant_2&gt;Я простоват.&lt;br /&gt;Лю...</td>\n",
       "      <td>&lt;span class=participant_1&gt;Пользователь 1: Прив...</td>\n",
       "    </tr>\n",
       "  </tbody>\n",
       "</table>\n",
       "</div>"
      ],
      "text/plain": [
       "                                   persona_1_profile  \\\n",
       "0  <span class=participant_1>У меня любимая работ...   \n",
       "1  <span class=participant_1>Я работаю учителем<b...   \n",
       "2  <span class=participant_1>Я купила дом<br />Я ...   \n",
       "3  <span class=participant_1>я врач и женат<br />...   \n",
       "4  <span class=participant_1>Я школьница.<br />Я ...   \n",
       "\n",
       "                                   persona_2_profile  \\\n",
       "0  <span class=participant_2>Ищу принца.<br />Вед...   \n",
       "1  <span class=participant_2>Я бизнесмен<br />У м...   \n",
       "2  <span class=participant_2>Я пою в караоке<br /...   \n",
       "3  <span class=participant_2>Я мальчик<br />Я учу...   \n",
       "4  <span class=participant_2>Я простоват.<br />Лю...   \n",
       "\n",
       "                                            dialogue  \n",
       "0  <span class=participant_2>Пользователь 2: Прив...  \n",
       "1  <span class=participant_1>Пользователь 1: Прив...  \n",
       "2  <span class=participant_1>Пользователь 1: Прив...  \n",
       "3  <span class=participant_2>Пользователь 2: Здра...  \n",
       "4  <span class=participant_1>Пользователь 1: Прив...  "
      ]
     },
     "execution_count": 5,
     "metadata": {},
     "output_type": "execute_result"
    }
   ],
   "source": [
    "dataset = pd.read_csv(\"./datasets/ru_persona_chat/dialogues.tsv\", delimiter=\"\\t\")\n",
    "dataset.head()"
   ]
  },
  {
   "cell_type": "code",
   "execution_count": 6,
   "metadata": {},
   "outputs": [
    {
     "data": {
      "text/plain": [
       "'<span class=participant_1>Я школьница.<br />Я ещё учусь.<br />Но я мечтаю работать.<br />Я обожаю родителей.<br />И не люблю учиться.<br /></span>'"
      ]
     },
     "execution_count": 6,
     "metadata": {},
     "output_type": "execute_result"
    }
   ],
   "source": [
    "dataset.iloc[4]['persona_1_profile']"
   ]
  },
  {
   "cell_type": "code",
   "execution_count": 7,
   "metadata": {},
   "outputs": [
    {
     "data": {
      "text/plain": [
       "'<span class=participant_2>Я простоват.<br />Люди избегают меня.<br />Я быстро бегаю.<br />Мои увлечения неординарны.<br />Я работаю по призванию.<br /></span>'"
      ]
     },
     "execution_count": 7,
     "metadata": {},
     "output_type": "execute_result"
    }
   ],
   "source": [
    "dataset.iloc[4]['persona_2_profile']"
   ]
  },
  {
   "cell_type": "code",
   "execution_count": 8,
   "metadata": {},
   "outputs": [
    {
     "data": {
      "text/plain": [
       "'<span class=participant_1>Пользователь 1: Привет!</span><br /><span class=participant_2>Пользователь 2: Привет!</span><br /><span class=participant_2>Пользователь 2: Как твои дела?</span><br /><span class=participant_1>Пользователь 1: Нормально, готовлюсь ко сну. Завтра снова в школу<br />. Не люблю учиться.</span><br /><span class=participant_1>Пользователь 1: А твои как?</span><br /><span class=participant_2>Пользователь 2: Всё хорошо,спать не хочется,думаю фильм посмотреть</span><br /><span class=participant_1>Пользователь 1: Какой фильм?</span><br /><span class=participant_2>Пользователь 2: Ещё не решила, может быть детектив какой нибудь. А<br />как в школе у тебя?</span><br /><span class=participant_1>Пользователь 1: Хорошо, ещё учусь, но скоро закончу. Уже мечтаю работать<br />, а не сидеть за учебниками. А ты работаешь или учишься<br />ещё?</span><br /><span class=participant_2>Пользователь 2: А я работаю, мне нравится моя работа, кем планируешь<br />работать?</span><br /><span class=participant_1>Пользователь 1: Хочу быть психологом. А кем ты работаешь?</span><br /><span class=participant_2>Пользователь 2: Не поверишь....я психолог</span><br /><span class=participant_1>Пользователь 1: Круто! И как тебе?</span><br /><span class=participant_2>Пользователь 2: Мне нравится,я люблю свою работу.</span><br /><span class=participant_1>Пользователь 1: Это классно. Хочу также. А ты одна живешь?</span><br /><span class=participant_2>Пользователь 2: Нет,я живу с мамой,а ты?</span><br /><span class=participant_1>Пользователь 1: Я тоже с родителями живу, обожаю их. Но иногда хочется<br />пожить одной.</span><br /><span class=participant_2>Пользователь 2: Мне тоже, я люблю быть дома одна, мне эио часто удаётся<br />, мы с мамой работаем в разное время, а в каком городе<br />ты живёшь?</span><br /><span class=participant_1>Пользователь 1: А у меня мама домохозяйка, поэтому редко бываю дома<br />одна. В Питере, а ты?</span><br /><span class=participant_2>Пользователь 2: А я в Ростове на Дону.</span><br /><span class=participant_1>Пользователь 1: Хочу там побывать.</span><br /><span class=participant_1>Пользователь 1: Ладно, мне пора ложиться</span><br /><span class=participant_1>Пользователь 1: Рада была поболтать!</span><br /><span class=participant_1>Пользователь 1: Спокойной ночи</span><br /><span class=participant_2>Пользователь 2: Поздно уже может до завтра? СПОКОЙНОЙ НОЧИ, ПРИЕЗЖАЙ<br />В ГОСТИ</span><br />'"
      ]
     },
     "execution_count": 8,
     "metadata": {},
     "output_type": "execute_result"
    }
   ],
   "source": [
    "dataset.iloc[4]['dialogue']\n"
   ]
  },
  {
   "cell_type": "code",
   "execution_count": 9,
   "metadata": {},
   "outputs": [],
   "source": [
    "dialogue = dataset.iloc[4]['dialogue']"
   ]
  },
  {
   "cell_type": "code",
   "execution_count": 10,
   "metadata": {},
   "outputs": [
    {
     "name": "stdout",
     "output_type": "stream",
     "text": [
      "<span class=\"participant_1\">\n",
      " Пользователь 1: Привет!\n",
      "</span>\n",
      "<br/>\n",
      "<span class=\"participant_2\">\n",
      " Пользователь 2: Привет!\n",
      "</span>\n",
      "<br/>\n",
      "<span class=\"participant_2\">\n",
      " Пользователь 2: Как твои дела?\n",
      "</span>\n",
      "<br/>\n",
      "<span class=\"participant_1\">\n",
      " Пользователь 1: Нормально, готовлюсь ко сну. Завтра снова в школу\n",
      " <br/>\n",
      " . Не люблю учиться.\n",
      "</span>\n",
      "<br/>\n",
      "<span class=\"participant_1\">\n",
      " Пользователь 1: А твои как?\n",
      "</span>\n",
      "<br/>\n",
      "<span class=\"participant_2\">\n",
      " Пользователь 2: Всё хорошо,спать не хочется,думаю фильм посмотреть\n",
      "</span>\n",
      "<br/>\n",
      "<span class=\"participant_1\">\n",
      " Пользователь 1: Какой фильм?\n",
      "</span>\n",
      "<br/>\n",
      "<span class=\"participant_2\">\n",
      " Пользователь 2: Ещё не решила, может быть детектив какой нибудь. А\n",
      " <br/>\n",
      " как в школе у тебя?\n",
      "</span>\n",
      "<br/>\n",
      "<span class=\"participant_1\">\n",
      " Пользователь 1: Хорошо, ещё учусь, но скоро закончу. Уже мечтаю работать\n",
      " <br/>\n",
      " , а не сидеть за учебниками. А ты работаешь или учишься\n",
      " <br/>\n",
      " ещё?\n",
      "</span>\n",
      "<br/>\n",
      "<span class=\"participant_2\">\n",
      " Пользователь 2: А я работаю, мне нравится моя работа, кем планируешь\n",
      " <br/>\n",
      " работать?\n",
      "</span>\n",
      "<br/>\n",
      "<span class=\"participant_1\">\n",
      " Пользователь 1: Хочу быть психологом. А кем ты работаешь?\n",
      "</span>\n",
      "<br/>\n",
      "<span class=\"participant_2\">\n",
      " Пользователь 2: Не поверишь....я психолог\n",
      "</span>\n",
      "<br/>\n",
      "<span class=\"participant_1\">\n",
      " Пользователь 1: Круто! И как тебе?\n",
      "</span>\n",
      "<br/>\n",
      "<span class=\"participant_2\">\n",
      " Пользователь 2: Мне нравится,я люблю свою работу.\n",
      "</span>\n",
      "<br/>\n",
      "<span class=\"participant_1\">\n",
      " Пользователь 1: Это классно. Хочу также. А ты одна живешь?\n",
      "</span>\n",
      "<br/>\n",
      "<span class=\"participant_2\">\n",
      " Пользователь 2: Нет,я живу с мамой,а ты?\n",
      "</span>\n",
      "<br/>\n",
      "<span class=\"participant_1\">\n",
      " Пользователь 1: Я тоже с родителями живу, обожаю их. Но иногда хочется\n",
      " <br/>\n",
      " пожить одной.\n",
      "</span>\n",
      "<br/>\n",
      "<span class=\"participant_2\">\n",
      " Пользователь 2: Мне тоже, я люблю быть дома одна, мне эио часто удаётся\n",
      " <br/>\n",
      " , мы с мамой работаем в разное время, а в каком городе\n",
      " <br/>\n",
      " ты живёшь?\n",
      "</span>\n",
      "<br/>\n",
      "<span class=\"participant_1\">\n",
      " Пользователь 1: А у меня мама домохозяйка, поэтому редко бываю дома\n",
      " <br/>\n",
      " одна. В Питере, а ты?\n",
      "</span>\n",
      "<br/>\n",
      "<span class=\"participant_2\">\n",
      " Пользователь 2: А я в Ростове на Дону.\n",
      "</span>\n",
      "<br/>\n",
      "<span class=\"participant_1\">\n",
      " Пользователь 1: Хочу там побывать.\n",
      "</span>\n",
      "<br/>\n",
      "<span class=\"participant_1\">\n",
      " Пользователь 1: Ладно, мне пора ложиться\n",
      "</span>\n",
      "<br/>\n",
      "<span class=\"participant_1\">\n",
      " Пользователь 1: Рада была поболтать!\n",
      "</span>\n",
      "<br/>\n",
      "<span class=\"participant_1\">\n",
      " Пользователь 1: Спокойной ночи\n",
      "</span>\n",
      "<br/>\n",
      "<span class=\"participant_2\">\n",
      " Пользователь 2: Поздно уже может до завтра? СПОКОЙНОЙ НОЧИ, ПРИЕЗЖАЙ\n",
      " <br/>\n",
      " В ГОСТИ\n",
      "</span>\n",
      "<br/>\n",
      "\n"
     ]
    }
   ],
   "source": [
    "from bs4 import BeautifulSoup\n",
    "soup = BeautifulSoup(dialogue)\n",
    "print(soup.prettify())"
   ]
  },
  {
   "cell_type": "code",
   "execution_count": 74,
   "metadata": {},
   "outputs": [
    {
     "data": {
      "text/plain": [
       "['Ищу принца.',\n",
       " 'Веду активный образ жизни.',\n",
       " 'Люблю читать классику.',\n",
       " 'Выращиваю фиалки.',\n",
       " 'Люблю общение.']"
      ]
     },
     "execution_count": 74,
     "metadata": {},
     "output_type": "execute_result"
    }
   ],
   "source": [
    "profile = dataset.iloc[0]['persona_2_profile']\n",
    "soup2 = BeautifulSoup(profile)\n",
    "[item + \".\" for item in soup2.text.split(\".\") if item]"
   ]
  },
  {
   "cell_type": "code",
   "execution_count": 22,
   "metadata": {},
   "outputs": [
    {
     "data": {
      "text/plain": [
       "11"
      ]
     },
     "execution_count": 22,
     "metadata": {},
     "output_type": "execute_result"
    }
   ],
   "source": [
    "len(soup.find_all('span'))"
   ]
  },
  {
   "cell_type": "code",
   "execution_count": 17,
   "metadata": {},
   "outputs": [
    {
     "data": {
      "text/plain": [
       "'Пользователь 2: Привет) расскажи о себе'"
      ]
     },
     "execution_count": 17,
     "metadata": {},
     "output_type": "execute_result"
    }
   ],
   "source": [
    "soup.find_all('span')[0].text"
   ]
  },
  {
   "cell_type": "code",
   "execution_count": 21,
   "metadata": {},
   "outputs": [
    {
     "data": {
      "text/plain": [
       "['participant_2']"
      ]
     },
     "execution_count": 21,
     "metadata": {},
     "output_type": "execute_result"
    }
   ],
   "source": [
    "soup.find_all('span')[0].get('class')"
   ]
  },
  {
   "cell_type": "code",
   "execution_count": 21,
   "metadata": {},
   "outputs": [
    {
     "data": {
      "text/plain": [
       "'Пользователь 1: Нормально, готовлюсь ко сну. Завтра снова в школу<br/>. Не люблю учиться.'"
      ]
     },
     "execution_count": 21,
     "metadata": {},
     "output_type": "execute_result"
    }
   ],
   "source": [
    "\"\".join([str(item) for item in soup.find_all('span')[3].contents])"
   ]
  },
  {
   "cell_type": "code",
   "execution_count": 11,
   "metadata": {},
   "outputs": [
    {
     "name": "stdout",
     "output_type": "stream",
     "text": [
      "participant_1  Привет!\n",
      "participant_2  Привет! Как твои дела?\n",
      "participant_1  Нормально, готовлюсь ко сну. Завтра снова в школу. Не люблю учиться. А твои как?\n",
      "participant_2  Всё хорошо,спать не хочется,думаю фильм посмотреть\n",
      "participant_1  Какой фильм?\n",
      "participant_2  Ещё не решила, может быть детектив какой нибудь. Акак в школе у тебя?\n",
      "participant_1  Хорошо, ещё учусь, но скоро закончу. Уже мечтаю работать, а не сидеть за учебниками. А ты работаешь или учишьсяещё?\n",
      "participant_2  А я работаю, мне нравится моя работа, кем планируешьработать?\n",
      "participant_1  Хочу быть психологом. А кем ты работаешь?\n",
      "participant_2  Не поверишь....я психолог\n",
      "participant_1  Круто! И как тебе?\n",
      "participant_2  Мне нравится,я люблю свою работу.\n",
      "participant_1  Это классно. Хочу также. А ты одна живешь?\n",
      "participant_2  Нет,я живу с мамой,а ты?\n",
      "participant_1  Я тоже с родителями живу, обожаю их. Но иногда хочетсяпожить одной.\n",
      "participant_2  Мне тоже, я люблю быть дома одна, мне эио часто удаётся, мы с мамой работаем в разное время, а в каком городеты живёшь?\n",
      "participant_1  А у меня мама домохозяйка, поэтому редко бываю домаодна. В Питере, а ты?\n",
      "participant_2  А я в Ростове на Дону.\n",
      "participant_1  Хочу там побывать. Ладно, мне пора ложиться Рада была поболтать! Спокойной ночи\n"
     ]
    }
   ],
   "source": [
    "from typing import TypedDict\n",
    "\n",
    "class Replica(TypedDict):\n",
    "    text: str\n",
    "    persona_class: str\n",
    "\n",
    "dialogue = []\n",
    "replicas = soup.find_all('span')\n",
    "current_class = replicas[0].get('class')[0]\n",
    "\n",
    "def simple_filter(text: str) -> str:\n",
    "    text = text.replace(\"Пользователь 1:\", \"\")\n",
    "    text = text.replace(\"Пользователь 2:\", \"\")\n",
    "    return text\n",
    "\n",
    "current_text = \"\"\n",
    "for replica in replicas:\n",
    "    if replica.get('class')[0] == current_class:\n",
    "        current_text += simple_filter(replica.text)\n",
    "    else:\n",
    "        replica_obj = Replica(text=current_text, persona_class=current_class)\n",
    "        dialogue.append(replica_obj)\n",
    "        current_class = replica.get('class')[0]\n",
    "        current_text = simple_filter(replica.text)\n",
    "        \n",
    "\n",
    "for item in dialogue:\n",
    "    print(item['persona_class'], item['text'])"
   ]
  },
  {
   "cell_type": "code",
   "execution_count": 31,
   "metadata": {},
   "outputs": [
    {
     "data": {
      "text/plain": [
       "7"
      ]
     },
     "execution_count": 31,
     "metadata": {},
     "output_type": "execute_result"
    }
   ],
   "source": [
    "len(dialogue)"
   ]
  },
  {
   "cell_type": "code",
   "execution_count": 40,
   "metadata": {},
   "outputs": [],
   "source": [
    "dialogue_samples = []\n",
    "\n",
    "dialogue_len = len(dialogue) // 2 \n",
    "for i in range(dialogue_len):\n",
    "\tsample = dialogue[:i*2]"
   ]
  },
  {
   "cell_type": "code",
   "execution_count": 38,
   "metadata": {},
   "outputs": [
    {
     "data": {
      "text/plain": [
       "[1, 2, 3, 4]"
      ]
     },
     "execution_count": 38,
     "metadata": {},
     "output_type": "execute_result"
    }
   ],
   "source": [
    "[1, 2, 3, 4, 5][:4]"
   ]
  },
  {
   "cell_type": "code",
   "execution_count": 58,
   "metadata": {},
   "outputs": [
    {
     "name": "stderr",
     "output_type": "stream",
     "text": [
      "/tmp/ipykernel_574555/3331626809.py:1: FutureWarning: Using short name for 'orient' is deprecated. Only the options: ('dict', list, 'series', 'split', 'records', 'index') will be used in a future version. Use one of the above to silence this warning.\n",
      "  pd.DataFrame(dialogue).to_dict('r')\n"
     ]
    },
    {
     "data": {
      "text/plain": [
       "[{'text': ' Привет) расскажи о себе', 'persona_class': 'participant_2'},\n",
       " {'text': ' Привет) под вкусный кофеек настроение поболтать появилось)',\n",
       "  'persona_class': 'participant_1'},\n",
       " {'text': ' Что читаешь? Мне нравится классика Я тоже люблю пообщаться',\n",
       "  'persona_class': 'participant_2'},\n",
       " {'text': ' Люблю животных, просто обожаю, как и свою работу) Я фантастику люблю',\n",
       "  'persona_class': 'participant_1'},\n",
       " {'text': ' А я выращиваю фиалки И веду здоровый и активный образ жизни!',\n",
       "  'persona_class': 'participant_2'},\n",
       " {'text': ' Ух ты, интересно.', 'persona_class': 'participant_1'},\n",
       " {'text': ' Ты случайно не принц на белом коне? Я его очень жду..',\n",
       "  'persona_class': 'participant_2'}]"
      ]
     },
     "execution_count": 58,
     "metadata": {},
     "output_type": "execute_result"
    }
   ],
   "source": [
    "pd.DataFrame(dialogue).to_dict('r')"
   ]
  },
  {
   "cell_type": "code",
   "execution_count": 2,
   "metadata": {},
   "outputs": [
    {
     "data": {
      "text/plain": [
       "12"
      ]
     },
     "execution_count": 2,
     "metadata": {},
     "output_type": "execute_result"
    }
   ],
   "source": [
    "from dimweb_persona_bot.dataloaders.ru_persona_chat_dataloaders import RUPersonaChatDatasetV1\n",
    "from dimweb_persona_bot.datasets_transformers.ru_persona_chat_dataset_transformer import ru_persona_chat_dataset_tranformer_v1\n",
    "\n",
    "# ru_persona_chat_dataset_tranformer_v1(\n",
    "# \tinitial_dataset_path=\"./datasets/ru_persona_chat/dialogues.tsv\",\n",
    "# \toutput_folder=\"./datasets/ru_persona_chat\",\n",
    "# )\n",
    "\n",
    "train_dataset = RUPersonaChatDatasetV1(\n",
    "    input_dataset_path=\"./datasets/ru_persona_chat/train.csv\",\n",
    ")\n",
    "len(train_dataset[14][\"history\"])"
   ]
  },
  {
   "cell_type": "code",
   "execution_count": 7,
   "metadata": {},
   "outputs": [
    {
     "data": {
      "text/plain": [
       "{'persona': ['Я дизайнер.',\n",
       "  'Я был в 12-ти странах.',\n",
       "  'Люблю пешие прогулки.',\n",
       "  'люблю рок-музыку.',\n",
       "  'Хочу купить дачу.'],\n",
       " 'history': ['Привет!',\n",
       "  'Привет! Как дела?)',\n",
       "  'У меня все замечательно. А твои дела как? Чем занимаешься по жизни? ?',\n",
       "  'Рада новому знакомству! У меня тоже всё неплохо. Недавно нашла работу по специальности. Я дизайнер. А ты чем занимаешься? Ты откуда?',\n",
       "  'Я продавец, выращиванию овощи и фрукты на даче и продаю их. Я ещё кстати и дачница. Я с Украины ) А ты откуда ?',\n",
       "  'Круто! Я из Беларуси, Минск.'],\n",
       " 'sample_id': '5_3'}"
      ]
     },
     "execution_count": 7,
     "metadata": {},
     "output_type": "execute_result"
    }
   ],
   "source": [
    "train_dataset[19]"
   ]
  },
  {
   "cell_type": "code",
   "execution_count": 15,
   "metadata": {},
   "outputs": [
    {
     "data": {
      "text/plain": [
       "34"
      ]
     },
     "execution_count": 15,
     "metadata": {},
     "output_type": "execute_result"
    }
   ],
   "source": [
    "from transformers import AutoTokenizer\n",
    "\n",
    "# tokenizer = AutoTokenizer.from_pretrained(\"facebook/bart-base\")\n",
    "tokenizer = AutoTokenizer.from_pretrained(\"facebook/mbart-large-50\", )\n",
    "\n",
    "len(tokenizer.encode(' '.join(train_dataset[14]['persona'])))"
   ]
  },
  {
   "cell_type": "code",
   "execution_count": 4,
   "metadata": {},
   "outputs": [
    {
     "data": {
      "text/plain": [
       "{'persona': ['У меня любимая работа.',\n",
       "  'Я уважаю людей.',\n",
       "  'У меня есть животное.',\n",
       "  'У меня хороший друг.',\n",
       "  'Я люблю кофе.'],\n",
       " 'history': [{'text': ' Привет) расскажи о себе',\n",
       "   'persona_class': 'participant_2'},\n",
       "  {'text': ' Привет) под вкусный кофеек настроение поболтать появилось)',\n",
       "   'persona_class': 'participant_1'}],\n",
       " 'sample_id': '0_1'}"
      ]
     },
     "execution_count": 4,
     "metadata": {},
     "output_type": "execute_result"
    }
   ],
   "source": [
    "train_dataset[1]"
   ]
  }
 ],
 "metadata": {
  "kernelspec": {
   "display_name": "Python 3.10.6 ('d_env')",
   "language": "python",
   "name": "python3"
  },
  "language_info": {
   "codemirror_mode": {
    "name": "ipython",
    "version": 3
   },
   "file_extension": ".py",
   "mimetype": "text/x-python",
   "name": "python",
   "nbconvert_exporter": "python",
   "pygments_lexer": "ipython3",
   "version": "3.10.6"
  },
  "orig_nbformat": 4,
  "vscode": {
   "interpreter": {
    "hash": "30a38661b2ceeb3c9b7cf184b47a2a6da71d32c359e8d9d03d0224b913ace509"
   }
  }
 },
 "nbformat": 4,
 "nbformat_minor": 2
}
