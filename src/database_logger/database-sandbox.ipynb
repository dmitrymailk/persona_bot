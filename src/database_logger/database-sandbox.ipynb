{
 "cells": [
  {
   "cell_type": "code",
   "execution_count": 1,
   "metadata": {},
   "outputs": [],
   "source": [
    "import peewee as pw"
   ]
  },
  {
   "cell_type": "code",
   "execution_count": 7,
   "metadata": {},
   "outputs": [],
   "source": [
    "class BaseModel(pw.Model):\n",
    "    class Meta:\n",
    "        db = pw.PostgresqlDatabase(\n",
    "            'nlp_database', \n",
    "            user='postgres', \n",
    "            password='postgres', \n",
    "            host='0.0.0.0', \n",
    "            port=2345,\n",
    "            autorollback=True,\n",
    "        )\n",
    "        db.connect()\n",
    "        database = db\n",
    "        \n",
    "        \n",
    "class User(BaseModel):\n",
    "    username = pw.CharField(unique=True)\n",
    "    email = pw.CharField(unique=True)\n",
    "    password = pw.CharField()\n",
    "\n",
    "User.create_table()"
   ]
  },
  {
   "cell_type": "markdown",
   "metadata": {},
   "source": [
    "### analize the database"
   ]
  },
  {
   "cell_type": "code",
   "execution_count": 1,
   "metadata": {},
   "outputs": [],
   "source": [
    "from src.database_logger.scripts.analize_database import DatabaseAnalyzerV1\n",
    "\n",
    "db = DatabaseAnalyzerV1()\n"
   ]
  },
  {
   "cell_type": "code",
   "execution_count": 76,
   "metadata": {},
   "outputs": [],
   "source": [
    "db.get_random_sample_by_wandb_run_id(\n",
    "\twandb_run_id=\"19rmj0yc\",\n",
    "\tcolumns=[\n",
    "\t\t'wandb_run_id',\n",
    "\t\t'model_name',\n",
    "\t\t'epoch',\n",
    "\t\t'context',\n",
    "\t\t'model_prediction',\n",
    "\t\t'actual_response',\n",
    "\t]\n",
    ")"
   ]
  },
  {
   "cell_type": "code",
   "execution_count": 2,
   "metadata": {},
   "outputs": [],
   "source": [
    "db.get_sample_with_metrics_by_wandb_run_id(\n",
    "\twandb_run_id=\"iegc74ph\",\n",
    " \tsamples_amount=6\n",
    ")"
   ]
  },
  {
   "cell_type": "code",
   "execution_count": null,
   "metadata": {},
   "outputs": [],
   "source": []
  }
 ],
 "metadata": {
  "kernelspec": {
   "display_name": "Python 3.10.6 ('d_env')",
   "language": "python",
   "name": "python3"
  },
  "language_info": {
   "codemirror_mode": {
    "name": "ipython",
    "version": 3
   },
   "file_extension": ".py",
   "mimetype": "text/x-python",
   "name": "python",
   "nbconvert_exporter": "python",
   "pygments_lexer": "ipython3",
   "version": "3.10.6"
  },
  "orig_nbformat": 4,
  "vscode": {
   "interpreter": {
    "hash": "c47eeeae5f0593d6ff7164e36f6d45daaa118b41372aa3e9757d1f066e1c76d7"
   }
  }
 },
 "nbformat": 4,
 "nbformat_minor": 2
}
