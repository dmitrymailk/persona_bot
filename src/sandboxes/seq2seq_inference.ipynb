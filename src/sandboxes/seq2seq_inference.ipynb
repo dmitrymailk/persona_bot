{
 "cells": [
  {
   "cell_type": "code",
   "execution_count": 5,
   "metadata": {},
   "outputs": [],
   "source": [
    "from transformers import  AutoTokenizer, AutoModelForSeq2SeqLM\n",
    "from src.dataloaders.seq2seq_samplers.seq2seq_samplers_hypothesis_2 import H2Seq2SeqInferencePersonaSampleV1\n",
    "from src.hyperparameters.causal_modeling_hyperparameters import H2PersonaChatHyperparametersV1\n",
    "import torch"
   ]
  },
  {
   "cell_type": "code",
   "execution_count": 2,
   "metadata": {},
   "outputs": [],
   "source": [
    "model_path = \"./models/facebook/bart-base-15or5dmk\"\n",
    "device = \"cuda\"\n",
    "\n",
    "model = AutoModelForSeq2SeqLM.from_pretrained(model_path)\n",
    "model.to(device)\n",
    "tokenizer = AutoTokenizer.from_pretrained(model_path)\n",
    "\n",
    "hyperparameters = H2PersonaChatHyperparametersV1(\n",
    "\tmodel_name=\"facebook/bart-base\",\n",
    "\tmodel_architecture=\"seq2seq\",\n",
    "\tchat_history_pair_length=7,\n",
    "\tpersona_max_length=14, \n",
    "\tchat_max_length=19,\n",
    ")"
   ]
  },
  {
   "cell_type": "code",
   "execution_count": 6,
   "metadata": {},
   "outputs": [
    {
     "data": {
      "text/plain": [
       "[0, 50265, 2]"
      ]
     },
     "execution_count": 6,
     "metadata": {},
     "output_type": "execute_result"
    }
   ],
   "source": [
    "tokenizer.encode(\"<c_sep>\")"
   ]
  },
  {
   "cell_type": "code",
   "execution_count": 7,
   "metadata": {},
   "outputs": [],
   "source": [
    "\n",
    "\n"
   ]
  },
  {
   "cell_type": "code",
   "execution_count": 29,
   "metadata": {},
   "outputs": [
    {
     "data": {
      "text/plain": [
       "['i feel lonely because i love chocolate ice cream']"
      ]
     },
     "execution_count": 29,
     "metadata": {},
     "output_type": "execute_result"
    }
   ],
   "source": [
    "sample = H2Seq2SeqInferencePersonaSampleV1(\n",
    "\ttokenizer=tokenizer,\n",
    "\thyperparameters=hyperparameters,\n",
    "\tdataset_sample={\n",
    "\t\t\"persona\": [\n",
    "      \t\t'I like chocolate ice cream.', \n",
    "        \t\"Sometimes I feel lonely.\", \n",
    "        \t# \"I like to play video games.\"\n",
    "        ],\n",
    "\t\t\"history\": [\n",
    "    \t  \t\"Hi, do you like ice cream?\", \n",
    "       \t\t'i do like ice cream but i prefer chocolate ice cream',\n",
    "\t\t\t\"I feel lonely\",\n",
    "    ]\n",
    "\t}\n",
    ").get_sample()\n",
    "\n",
    "for key in sample.keys():\n",
    "    sample[key] = torch.tensor(sample[key]).unsqueeze(0).to(device)\n",
    "    \n",
    "# model(**sample)\n",
    "answer = model.generate(**sample, max_length=20)\n",
    "tokenizer.batch_decode(answer, skip_special_tokens=True,)"
   ]
  }
 ],
 "metadata": {
  "kernelspec": {
   "display_name": "Python 3.10.6 ('d_env')",
   "language": "python",
   "name": "python3"
  },
  "language_info": {
   "codemirror_mode": {
    "name": "ipython",
    "version": 3
   },
   "file_extension": ".py",
   "mimetype": "text/x-python",
   "name": "python",
   "nbconvert_exporter": "python",
   "pygments_lexer": "ipython3",
   "version": "3.10.6"
  },
  "orig_nbformat": 4,
  "vscode": {
   "interpreter": {
    "hash": "c47eeeae5f0593d6ff7164e36f6d45daaa118b41372aa3e9757d1f066e1c76d7"
   }
  }
 },
 "nbformat": 4,
 "nbformat_minor": 2
}
