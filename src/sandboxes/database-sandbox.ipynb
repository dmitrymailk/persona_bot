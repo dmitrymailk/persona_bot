{
 "cells": [
  {
   "cell_type": "code",
   "execution_count": 1,
   "metadata": {},
   "outputs": [],
   "source": [
    "import peewee as pw"
   ]
  },
  {
   "cell_type": "code",
   "execution_count": 7,
   "metadata": {},
   "outputs": [],
   "source": [
    "class BaseModel(pw.Model):\n",
    "    class Meta:\n",
    "        db = pw.PostgresqlDatabase(\n",
    "            'nlp_database', \n",
    "            user='postgres', \n",
    "            password='postgres', \n",
    "            host='0.0.0.0', \n",
    "            port=2345,\n",
    "            autorollback=True,\n",
    "        )\n",
    "        db.connect()\n",
    "        database = db\n",
    "        \n",
    "        \n",
    "class User(BaseModel):\n",
    "    username = pw.CharField(unique=True)\n",
    "    email = pw.CharField(unique=True)\n",
    "    password = pw.CharField()\n",
    "\n",
    "User.create_table()"
   ]
  },
  {
   "cell_type": "markdown",
   "metadata": {},
   "source": [
    "### analize the database"
   ]
  },
  {
   "cell_type": "code",
   "execution_count": 2,
   "metadata": {},
   "outputs": [],
   "source": [
    "import peewee as pw\n",
    "import pandas as pd\n",
    "from src.database_logger.models import ModelPredictionV1, ModelMetricsV1\n",
    "from src.database_logger.logger import DatabaseAnalaizerV1\n",
    "db = DatabaseAnalaizerV1()\n"
   ]
  },
  {
   "cell_type": "code",
   "execution_count": 5,
   "metadata": {},
   "outputs": [],
   "source": [
    "get_random_row = \"\"\"\n",
    "WITH random_row AS (\n",
    "\tSELECT * FROM model_prediction_v1 ORDER BY random() LIMIT 1\n",
    ")\n",
    "SELECT * FROM random_row;\n",
    "\"\"\""
   ]
  },
  {
   "cell_type": "code",
   "execution_count": 2,
   "metadata": {},
   "outputs": [],
   "source": [
    "def get_random_sample_by_wandb_run_id(\n",
    "\twandb_run_id: str,\n",
    "\ttable_save_path: str = \"./temp.csv\",\n",
    "\tcolumns: list[str] = [\n",
    "\t\t'wandb_run_id',\n",
    "\t\t'model_name',\n",
    "\t\t'epoch',\n",
    "\t\t'context',\n",
    "\t\t'model_prediction',\n",
    "\t\t'actual_response',\n",
    "\t]\n",
    "):\n",
    "\trandom_row = db.execute_sql(get_random_row)\n",
    "\trandom_row = random_row[0][1]\n",
    " \n",
    "\tdata_1 = ModelPredictionV1.select().where(\n",
    "\t\t(ModelPredictionV1.prediction_id == random_row)\n",
    "\t\t&\n",
    "\t\t(ModelPredictionV1.wandb_run_id == wandb_run_id)\n",
    "\t).dicts()\n",
    " \n",
    "\tdata_2 = pd.DataFrame.from_records(data_1)\n",
    "\tdata_2[columns].to_csv(table_save_path, index=False)"
   ]
  },
  {
   "cell_type": "code",
   "execution_count": 76,
   "metadata": {},
   "outputs": [],
   "source": [
    "get_random_sample_by_wandb_run_id(\n",
    "\twandb_run_id=\"19rmj0yc\",\n",
    "\tcolumns=[\n",
    "\t\t'wandb_run_id',\n",
    "\t\t'model_name',\n",
    "\t\t'epoch',\n",
    "\t\t'context',\n",
    "\t\t'model_prediction',\n",
    "\t\t'actual_response',\n",
    "\t]\n",
    ")"
   ]
  },
  {
   "cell_type": "code",
   "execution_count": 3,
   "metadata": {},
   "outputs": [],
   "source": [
    "def get_sample_with_metrics_by_wandb_run_id(\n",
    "        wandb_run_id: str,\n",
    "        table_save_path: str = \"./temp.csv\",\n",
    "        columns: list[str] = [\n",
    "            'wandb_run_id',\n",
    "            'model_name',\n",
    "            'prediction_id',\n",
    "            'epoch',\n",
    "            'context',\n",
    "            'model_prediction',\n",
    "            'actual_response',\n",
    "            'valid_loss_epoch',\n",
    "            'blue_score_epoch',\n",
    "            'rougel_score_epoch',\n",
    "            'charf_score_epoch',\n",
    "        ],\n",
    "        samples_amount: int = 1\n",
    "    ):\n",
    "    \"\"\"\n",
    "    similar to\n",
    "    select * from public.model_prediction_v1 mp\n",
    "    join model_metrics_v1 mmv on mp.epoch = mmv.epoch\n",
    "    where \n",
    "    mp.prediction_id = '69_2' and \n",
    "    mp.wandb_run_id = '19rmj0yc' and \n",
    "    mmv.wandb_run_id = '19rmj0yc'\n",
    "    \"\"\"\n",
    "    data = []\n",
    "    for step in range(samples_amount):\n",
    "        random_row = db.execute_sql(get_random_row)\n",
    "        random_row = random_row[0][1]\n",
    "    \n",
    "        data_1 = ModelPredictionV1.select(ModelPredictionV1, ModelMetricsV1).join(\n",
    "            ModelMetricsV1, pw.JOIN.INNER, on=(\n",
    "            ModelMetricsV1.epoch == ModelPredictionV1.epoch\n",
    "        )).where(\n",
    "            (ModelMetricsV1.wandb_run_id == wandb_run_id)\n",
    "            &\n",
    "            (ModelPredictionV1.wandb_run_id == wandb_run_id)\n",
    "            &\n",
    "            (ModelPredictionV1.prediction_id == random_row)\n",
    "        ).dicts()\n",
    "    \n",
    "        data_2 = pd.DataFrame.from_records(data_1)\n",
    "        data.append(data_2)\n",
    "    \n",
    "    data = pd.concat(data)\n",
    "    data[columns].to_csv(table_save_path, index=False)\n",
    "\n"
   ]
  },
  {
   "cell_type": "code",
   "execution_count": 6,
   "metadata": {},
   "outputs": [],
   "source": [
    "get_sample_with_metrics_by_wandb_run_id(\n",
    "\twandb_run_id=\"2e29af6q\",\n",
    " \tsamples_amount=4\n",
    ")"
   ]
  },
  {
   "cell_type": "code",
   "execution_count": null,
   "metadata": {},
   "outputs": [],
   "source": []
  }
 ],
 "metadata": {
  "kernelspec": {
   "display_name": "Python 3.10.6 ('d_env')",
   "language": "python",
   "name": "python3"
  },
  "language_info": {
   "codemirror_mode": {
    "name": "ipython",
    "version": 3
   },
   "file_extension": ".py",
   "mimetype": "text/x-python",
   "name": "python",
   "nbconvert_exporter": "python",
   "pygments_lexer": "ipython3",
   "version": "3.10.6"
  },
  "orig_nbformat": 4,
  "vscode": {
   "interpreter": {
    "hash": "c47eeeae5f0593d6ff7164e36f6d45daaa118b41372aa3e9757d1f066e1c76d7"
   }
  }
 },
 "nbformat": 4,
 "nbformat_minor": 2
}
